{
  "cells": [
    {
      "cell_type": "markdown",
      "metadata": {
        "id": "view-in-github",
        "colab_type": "text"
      },
      "source": [
        "<a href=\"https://colab.research.google.com/github/ivanyspaez/MetNumUN2023I/blob/main/Lab2/Grupo15_Lab2.ipynb\" target=\"_parent\"><img src=\"https://colab.research.google.com/assets/colab-badge.svg\" alt=\"Open In Colab\"/></a>"
      ]
    },
    {
      "cell_type": "code",
      "execution_count": null,
      "metadata": {
        "autoscroll": false,
        "ein.tags": "worksheet-0",
        "id": "FrAt48DtiXb-",
        "outputId": "a14dded2-f242-4be8-a89d-a8285109944e",
        "colab": {
          "base_uri": "https://localhost:8080/",
          "height": 347
        }
      },
      "outputs": [
        {
          "output_type": "stream",
          "name": "stdout",
          "text": [
            "Looking in indexes: https://pypi.org/simple, https://us-python.pkg.dev/colab-wheels/public/simple/\n",
            "Requirement already satisfied: fortran-magic in /usr/local/lib/python3.8/dist-packages (0.7)\n",
            "Requirement already satisfied: ipython in /usr/local/lib/python3.8/dist-packages (from fortran-magic) (7.9.0)\n",
            "Requirement already satisfied: numpy in /usr/local/lib/python3.8/dist-packages (from fortran-magic) (1.22.4)\n",
            "Requirement already satisfied: pexpect in /usr/local/lib/python3.8/dist-packages (from ipython->fortran-magic) (4.8.0)\n",
            "Requirement already satisfied: pygments in /usr/local/lib/python3.8/dist-packages (from ipython->fortran-magic) (2.6.1)\n",
            "Requirement already satisfied: decorator in /usr/local/lib/python3.8/dist-packages (from ipython->fortran-magic) (4.4.2)\n",
            "Requirement already satisfied: prompt-toolkit<2.1.0,>=2.0.0 in /usr/local/lib/python3.8/dist-packages (from ipython->fortran-magic) (2.0.10)\n",
            "Requirement already satisfied: pickleshare in /usr/local/lib/python3.8/dist-packages (from ipython->fortran-magic) (0.7.5)\n",
            "Requirement already satisfied: backcall in /usr/local/lib/python3.8/dist-packages (from ipython->fortran-magic) (0.2.0)\n",
            "Requirement already satisfied: setuptools>=18.5 in /usr/local/lib/python3.8/dist-packages (from ipython->fortran-magic) (57.4.0)\n",
            "Requirement already satisfied: jedi>=0.10 in /usr/local/lib/python3.8/dist-packages (from ipython->fortran-magic) (0.18.2)\n",
            "Requirement already satisfied: traitlets>=4.2 in /usr/local/lib/python3.8/dist-packages (from ipython->fortran-magic) (5.7.1)\n",
            "Requirement already satisfied: parso<0.9.0,>=0.8.0 in /usr/local/lib/python3.8/dist-packages (from jedi>=0.10->ipython->fortran-magic) (0.8.3)\n",
            "Requirement already satisfied: six>=1.9.0 in /usr/local/lib/python3.8/dist-packages (from prompt-toolkit<2.1.0,>=2.0.0->ipython->fortran-magic) (1.15.0)\n",
            "Requirement already satisfied: wcwidth in /usr/local/lib/python3.8/dist-packages (from prompt-toolkit<2.1.0,>=2.0.0->ipython->fortran-magic) (0.2.6)\n",
            "Requirement already satisfied: ptyprocess>=0.5 in /usr/local/lib/python3.8/dist-packages (from pexpect->ipython->fortran-magic) (0.7.0)\n"
          ]
        },
        {
          "output_type": "stream",
          "name": "stderr",
          "text": [
            "/usr/local/lib/python3.8/dist-packages/fortranmagic.py:147: UserWarning: get_ipython_cache_dir has moved to the IPython.paths module since IPython 4.0.\n",
            "  self._lib_dir = os.path.join(get_ipython_cache_dir(), 'fortran')\n"
          ]
        },
        {
          "output_type": "display_data",
          "data": {
            "application/javascript": [
              "new Promise(function(resolve, reject) {\n",
              "\tvar script = document.createElement(\"script\");\n",
              "\tscript.onload = resolve;\n",
              "\tscript.onerror = reject;\n",
              "\tscript.src = \"https://raw.github.com/marijnh/CodeMirror/master/mode/fortran/fortran.js\";\n",
              "\tdocument.head.appendChild(script);\n",
              "}).then(() => {\n",
              "IPython.config.cell_magic_highlight['magic_fortran'] = {'reg':[/^%%fortran/]};\n",
              "});"
            ]
          },
          "metadata": {}
        }
      ],
      "source": [
        "%matplotlib inline\n",
        "!pip install -U fortran-magic\n",
        "%load_ext fortranmagic\n",
        "\n",
        "\n",
        "import sys; sys.path.append('..')\n",
        "\n",
        "import pandas as pd\n",
        "import numpy as np\n",
        "import matplotlib as mpl\n",
        "import matplotlib.pyplot as plt\n",
        "import seaborn as sns\n",
        "\n",
        "mpl.rc('figure', figsize=(12, 7))\n",
        "\n",
        "ran_the_first_cell = True\n",
        "\n",
        "jan2017 = pd.to_datetime(['2017-01-03 00:00:00+00:00',\n",
        " '2017-01-04 00:00:00+00:00',\n",
        " '2017-01-05 00:00:00+00:00',\n",
        " '2017-01-06 00:00:00+00:00',\n",
        " '2017-01-09 00:00:00+00:00',\n",
        " '2017-01-10 00:00:00+00:00',\n",
        " '2017-01-11 00:00:00+00:00',\n",
        " '2017-01-12 00:00:00+00:00',\n",
        " '2017-01-13 00:00:00+00:00',\n",
        " '2017-01-17 00:00:00+00:00',\n",
        " '2017-01-18 00:00:00+00:00',\n",
        " '2017-01-19 00:00:00+00:00',\n",
        " '2017-01-20 00:00:00+00:00',\n",
        " '2017-01-23 00:00:00+00:00',\n",
        " '2017-01-24 00:00:00+00:00',\n",
        " '2017-01-25 00:00:00+00:00',\n",
        " '2017-01-26 00:00:00+00:00',\n",
        " '2017-01-27 00:00:00+00:00',\n",
        " '2017-01-30 00:00:00+00:00',\n",
        " '2017-01-31 00:00:00+00:00',\n",
        " '2017-02-01 00:00:00+00:00'])\n",
        "calendar = jan2017.values.astype('datetime64[D]')\n",
        "\n",
        "event_dates = pd.to_datetime(['2017-01-06 00:00:00+00:00', \n",
        "                             '2017-01-07 00:00:00+00:00', \n",
        "                             '2017-01-08 00:00:00+00:00']).values.astype('datetime64[D]')\n",
        "event_values = np.array([10, 15, 20])"
      ]
    },
    {
      "cell_type": "markdown",
      "metadata": {
        "ein.tags": "worksheet-0",
        "id": "lHm410FBiXcC"
      },
      "source": [
        "<center>\n",
        "  <h1>The PyData Toolbox</h1>\n",
        "  <h3>Scott Sanderson (Twitter: @scottbsanderson, GitHub: ssanderson)</h3>\n",
        "  <h3><a href=\"https://github.com/ssanderson/pydata-toolbox\">https://github.com/ssanderson/pydata-toolbox</a></h3>\n",
        "</center>"
      ]
    },
    {
      "cell_type": "markdown",
      "metadata": {
        "collapsed": true,
        "ein.tags": "worksheet-0",
        "id": "0CXHsFMBiXcD"
      },
      "source": [
        "# About Me:\n",
        "\n",
        "<img src=\"https://raw.githubusercontent.com/ssanderson/pydata-toolbox/master/notebooks/images/me.jpg\" alt=\"Drawing\" style=\"width: 300px;\"/>\n",
        "\n",
        "- Senior Engineer at [Quantopian](www.quantopian.com)\n",
        "- Background in Mathematics and Philosophy\n",
        "- **Twitter:** [@scottbsanderson](https://twitter.com/scottbsanderson)\n",
        "- **GitHub:** [ssanderson](github.com/ssanderson)"
      ]
    },
    {
      "cell_type": "markdown",
      "metadata": {
        "id": "tcOO-3C8iXcE"
      },
      "source": [
        "## Outline\n",
        "\n",
        "- Built-in Data Structures\n",
        "- Numpy `array`\n",
        "- Pandas `Series`/`DataFrame`\n",
        "- Plotting and \"Real-World\" Analyses"
      ]
    },
    {
      "cell_type": "markdown",
      "metadata": {
        "id": "qGj-c9CliXcE"
      },
      "source": [
        "# Data Structures"
      ]
    },
    {
      "cell_type": "markdown",
      "metadata": {
        "id": "Nsn-QHmCiXcF"
      },
      "source": [
        "> Rule 5. Data dominates. If you've chosen the right data structures and organized things well, the algorithms\n",
        "will almost always be self-evident. Data structures, not algorithms, are central to programming.\n",
        "\n",
        "- *Notes on Programming in C*, by Rob Pike."
      ]
    },
    {
      "cell_type": "markdown",
      "metadata": {
        "id": "_yhFg_rXiXcF"
      },
      "source": [
        "# Lists"
      ]
    },
    {
      "cell_type": "code",
      "execution_count": null,
      "metadata": {
        "collapsed": true,
        "id": "97QvmzbqiXcG"
      },
      "outputs": [],
      "source": [
        "assert ran_the_first_cell, \"Oh noes!\""
      ]
    },
    {
      "cell_type": "code",
      "execution_count": null,
      "metadata": {
        "id": "nhIZgNXLiXcG",
        "outputId": "49a4a3c1-a8e7-46f3-afad-c92d765f2e28",
        "colab": {
          "base_uri": "https://localhost:8080/"
        }
      },
      "outputs": [
        {
          "output_type": "execute_result",
          "data": {
            "text/plain": [
              "[1, 'two', 3.0, 4, 5.0, 'six']"
            ]
          },
          "metadata": {},
          "execution_count": 3
        }
      ],
      "source": [
        "l = [1, 'two', 3.0, 4, 5.0, \"six\"]\n",
        "l"
      ]
    },
    {
      "cell_type": "markdown",
      "source": [
        "**My own example 1**"
      ],
      "metadata": {
        "id": "9BZKvgV9UfbN"
      }
    },
    {
      "cell_type": "code",
      "source": [
        "cel=['Me','Gusta','la','cerveza','[',']',8]\n",
        "cel"
      ],
      "metadata": {
        "colab": {
          "base_uri": "https://localhost:8080/"
        },
        "id": "7NrwHJu4Uh1L",
        "outputId": "2c89351d-2f0d-4bd4-b819-c2f377f70bfa"
      },
      "execution_count": null,
      "outputs": [
        {
          "output_type": "execute_result",
          "data": {
            "text/plain": [
              "['Me', 'Gusta', 'la', 'cerveza', '[', ']', 8]"
            ]
          },
          "metadata": {},
          "execution_count": 4
        }
      ]
    },
    {
      "cell_type": "code",
      "execution_count": null,
      "metadata": {
        "id": "Cjj8bfDAiXcH",
        "outputId": "0acbd647-98a6-450a-defc-a6a4a66b061b",
        "colab": {
          "base_uri": "https://localhost:8080/"
        }
      },
      "outputs": [
        {
          "output_type": "stream",
          "name": "stdout",
          "text": [
            "first: 1\n",
            "second: two\n"
          ]
        }
      ],
      "source": [
        "# Lists can be indexed like C-style arrays.\n",
        "first = l[0]\n",
        "second = l[1]\n",
        "print(\"first:\", first)\n",
        "print(\"second:\", second)"
      ]
    },
    {
      "cell_type": "markdown",
      "source": [
        "**My own example 2**"
      ],
      "metadata": {
        "id": "TSbIj1HzU-Uj"
      }
    },
    {
      "cell_type": "code",
      "source": [
        "primero = cel[0]\n",
        "segundo = cel[1]\n",
        "print(\"Primero:\", primero)\n",
        "print(\"Segundo:\", segundo)"
      ],
      "metadata": {
        "colab": {
          "base_uri": "https://localhost:8080/"
        },
        "id": "DzFQjZLsVAOr",
        "outputId": "5fbfa9c6-1ce0-4d06-d6a3-8c4c69d44815"
      },
      "execution_count": null,
      "outputs": [
        {
          "output_type": "stream",
          "name": "stdout",
          "text": [
            "Primero: Me\n",
            "Segundo: Gusta\n"
          ]
        }
      ]
    },
    {
      "cell_type": "code",
      "execution_count": null,
      "metadata": {
        "id": "cVozluPbiXcH",
        "outputId": "335ec427-d072-4069-d3ab-7d9df53db530",
        "colab": {
          "base_uri": "https://localhost:8080/"
        }
      },
      "outputs": [
        {
          "output_type": "stream",
          "name": "stdout",
          "text": [
            "last: six\n",
            "second to last: 5.0\n"
          ]
        }
      ],
      "source": [
        "# Negative indexing gives elements relative to the end of the list.\n",
        "last = l[-1]\n",
        "penultimate = l[-2]\n",
        "print(\"last:\", last)\n",
        "print(\"second to last:\", penultimate)"
      ]
    },
    {
      "cell_type": "markdown",
      "source": [
        "**My own example 3**"
      ],
      "metadata": {
        "id": "sbUkZJOwVM7b"
      }
    },
    {
      "cell_type": "code",
      "source": [
        "ultimo = cel[-1]\n",
        "penultimo = cel[-2]\n",
        "print(\"ultimo:\", ultimo)\n",
        "print(\"penultimo:\", penultimo)"
      ],
      "metadata": {
        "colab": {
          "base_uri": "https://localhost:8080/"
        },
        "id": "i6DNd0IiVOpk",
        "outputId": "a15a9f0b-7bc1-4e38-b7d9-efe6f0ee454c"
      },
      "execution_count": null,
      "outputs": [
        {
          "output_type": "stream",
          "name": "stdout",
          "text": [
            "ultimo: 8\n",
            "penultimo: ]\n"
          ]
        }
      ]
    },
    {
      "cell_type": "code",
      "execution_count": null,
      "metadata": {
        "id": "PTqqm8MeiXcI",
        "outputId": "f3509b70-e0bf-402d-ca96-bb284a44d7a7",
        "colab": {
          "base_uri": "https://localhost:8080/"
        }
      },
      "outputs": [
        {
          "output_type": "execute_result",
          "data": {
            "text/plain": [
              "['two', 3.0]"
            ]
          },
          "metadata": {},
          "execution_count": 9
        }
      ],
      "source": [
        "# Lists can also be sliced, which makes a copy of elements between \n",
        "# start (inclusive) and stop (exclusive)\n",
        "sublist = l[1:3]\n",
        "sublist"
      ]
    },
    {
      "cell_type": "markdown",
      "source": [
        "**My own example 4**"
      ],
      "metadata": {
        "id": "5w402MpaV1Vb"
      }
    },
    {
      "cell_type": "code",
      "source": [
        "sub_lista = cel[0:4]\n",
        "sub_lista"
      ],
      "metadata": {
        "colab": {
          "base_uri": "https://localhost:8080/"
        },
        "id": "xNlRPAvZV5ej",
        "outputId": "87620b39-024f-4b3d-f793-dd80b9ab8008"
      },
      "execution_count": null,
      "outputs": [
        {
          "output_type": "execute_result",
          "data": {
            "text/plain": [
              "['Me', 'Gusta', 'la', 'cerveza']"
            ]
          },
          "metadata": {},
          "execution_count": 10
        }
      ]
    },
    {
      "cell_type": "code",
      "execution_count": null,
      "metadata": {
        "id": "ugUUXXUViXcI",
        "outputId": "c304750e-98eb-4064-83d6-dfa9e6f763f9",
        "colab": {
          "base_uri": "https://localhost:8080/"
        }
      },
      "outputs": [
        {
          "output_type": "execute_result",
          "data": {
            "text/plain": [
              "[1, 'two', 3.0]"
            ]
          },
          "metadata": {},
          "execution_count": 11
        }
      ],
      "source": [
        "# l[:N] is equivalent to l[0:N].\n",
        "first_three = l[:3]\n",
        "first_three"
      ]
    },
    {
      "cell_type": "markdown",
      "source": [
        "**My own example 5**"
      ],
      "metadata": {
        "id": "X78dGi_qWPZe"
      }
    },
    {
      "cell_type": "code",
      "source": [
        "primeros_tres = cel[:3]\n",
        "primeros_tres"
      ],
      "metadata": {
        "colab": {
          "base_uri": "https://localhost:8080/"
        },
        "id": "c9vpVi_iWRVT",
        "outputId": "756b4c76-fce1-4cf3-9f3d-07aa9a253730"
      },
      "execution_count": null,
      "outputs": [
        {
          "output_type": "execute_result",
          "data": {
            "text/plain": [
              "['Me', 'Gusta', 'la']"
            ]
          },
          "metadata": {},
          "execution_count": 12
        }
      ]
    },
    {
      "cell_type": "code",
      "execution_count": null,
      "metadata": {
        "id": "otoRjbK7iXcI",
        "outputId": "c0079e77-2adc-4224-fda8-de9389f5dbc2",
        "colab": {
          "base_uri": "https://localhost:8080/"
        }
      },
      "outputs": [
        {
          "output_type": "execute_result",
          "data": {
            "text/plain": [
              "[4, 5.0, 'six']"
            ]
          },
          "metadata": {},
          "execution_count": 13
        }
      ],
      "source": [
        "# l[3:] is equivalent to l[3:len(l)].\n",
        "after_three = l[3:]\n",
        "after_three"
      ]
    },
    {
      "cell_type": "markdown",
      "source": [
        "**My own example 6**"
      ],
      "metadata": {
        "id": "mPvF5ATtWW4D"
      }
    },
    {
      "cell_type": "code",
      "source": [
        "ultimos_tres = cel[3:]\n",
        "ultimos_tres"
      ],
      "metadata": {
        "colab": {
          "base_uri": "https://localhost:8080/"
        },
        "id": "uPFBaGMuWZZt",
        "outputId": "d99fe634-99fd-4a64-e1a3-24afe1d67d51"
      },
      "execution_count": null,
      "outputs": [
        {
          "output_type": "execute_result",
          "data": {
            "text/plain": [
              "['cerveza', '[', ']', 8]"
            ]
          },
          "metadata": {},
          "execution_count": 14
        }
      ]
    },
    {
      "cell_type": "code",
      "execution_count": null,
      "metadata": {
        "id": "2ZndPPspiXcJ",
        "outputId": "aff8b1ad-0edb-4293-9c20-0b62ad6329b4",
        "colab": {
          "base_uri": "https://localhost:8080/"
        }
      },
      "outputs": [
        {
          "output_type": "execute_result",
          "data": {
            "text/plain": [
              "['b', 'd', 'f']"
            ]
          },
          "metadata": {},
          "execution_count": 15
        }
      ],
      "source": [
        "# There's also a third parameter, \"step\", which gets every Nth element.\n",
        "l = ['a', 'b', 'c', 'd', 'e', 'f', 'g','h']\n",
        "l[1:7:2]"
      ]
    },
    {
      "cell_type": "markdown",
      "source": [
        "**My own example 7**"
      ],
      "metadata": {
        "id": "6z5TarSmWmsz"
      }
    },
    {
      "cell_type": "code",
      "source": [
        "frase = ['El', 'que', 'come', 'solo', 'muere', 'solo', 'lo','dice','mi','abuelo','sabio']\n",
        "frase[1:7:2]"
      ],
      "metadata": {
        "colab": {
          "base_uri": "https://localhost:8080/"
        },
        "id": "DzLXJ9PNWobL",
        "outputId": "89816856-9215-40aa-87cb-db9927ec74ed"
      },
      "execution_count": null,
      "outputs": [
        {
          "output_type": "execute_result",
          "data": {
            "text/plain": [
              "['que', 'solo', 'solo']"
            ]
          },
          "metadata": {},
          "execution_count": 16
        }
      ]
    },
    {
      "cell_type": "code",
      "execution_count": null,
      "metadata": {
        "id": "dt2OMhnZiXcJ",
        "outputId": "fb6bfc13-5751-4fe9-f362-bccb8a155da8",
        "colab": {
          "base_uri": "https://localhost:8080/"
        }
      },
      "outputs": [
        {
          "output_type": "execute_result",
          "data": {
            "text/plain": [
              "['h', 'g', 'f', 'e', 'd', 'c', 'b', 'a']"
            ]
          },
          "metadata": {},
          "execution_count": 17
        }
      ],
      "source": [
        "# This is a cute way to reverse a list.\n",
        "l[::-1]"
      ]
    },
    {
      "cell_type": "markdown",
      "source": [
        "**My own example 8**"
      ],
      "metadata": {
        "id": "jVzQoJSFX5ub"
      }
    },
    {
      "cell_type": "code",
      "source": [
        "frase [::-1]"
      ],
      "metadata": {
        "colab": {
          "base_uri": "https://localhost:8080/"
        },
        "id": "A_34Ykt8X7Z7",
        "outputId": "f396be21-553f-45a9-b600-f0a4c88dcd53"
      },
      "execution_count": null,
      "outputs": [
        {
          "output_type": "execute_result",
          "data": {
            "text/plain": [
              "['sabio',\n",
              " 'abuelo',\n",
              " 'mi',\n",
              " 'dice',\n",
              " 'lo',\n",
              " 'solo',\n",
              " 'muere',\n",
              " 'solo',\n",
              " 'come',\n",
              " 'que',\n",
              " 'El']"
            ]
          },
          "metadata": {},
          "execution_count": 18
        }
      ]
    },
    {
      "cell_type": "code",
      "execution_count": null,
      "metadata": {
        "id": "uDIdawFwiXcJ",
        "outputId": "f57882e2-f5ce-4c42-fa60-c41c6a67745e",
        "colab": {
          "base_uri": "https://localhost:8080/"
        }
      },
      "outputs": [
        {
          "output_type": "stream",
          "name": "stdout",
          "text": [
            "Before: [1, 2, 3, 4, 5]\n",
            "After: [1, 2, 3, 4, 5, 'six']\n"
          ]
        }
      ],
      "source": [
        "# Lists can be grown efficiently (in O(1) amortized time).\n",
        "l = [1, 2, 3, 4, 5]\n",
        "print(\"Before:\", l)\n",
        "l.append('six')\n",
        "print(\"After:\", l)"
      ]
    },
    {
      "cell_type": "markdown",
      "source": [
        "**My own example 9**"
      ],
      "metadata": {
        "id": "2gEAzjXiYwmq"
      }
    },
    {
      "cell_type": "code",
      "source": [
        "inicio = ['No','encuentro','la','coincidencia','de','tu','busqueda']\n",
        "print(\"Comenzo:\", inicio)\n",
        "inicio.append('en linea')\n",
        "print(\"Final:\", inicio)"
      ],
      "metadata": {
        "colab": {
          "base_uri": "https://localhost:8080/"
        },
        "id": "Q2pK_8w-YzrK",
        "outputId": "995bc38e-cbe1-46b1-e4d1-58440476337f"
      },
      "execution_count": null,
      "outputs": [
        {
          "output_type": "stream",
          "name": "stdout",
          "text": [
            "Comenzo: ['No', 'encuentro', 'la', 'coincidencia', 'de', 'tu', 'busqueda']\n",
            "Final: ['No', 'encuentro', 'la', 'coincidencia', 'de', 'tu', 'busqueda', 'en linea']\n"
          ]
        }
      ]
    },
    {
      "cell_type": "code",
      "execution_count": null,
      "metadata": {
        "id": "OIhO0xxUiXcK",
        "outputId": "68b1ad0a-dec5-4945-efb6-61252f2e1270",
        "colab": {
          "base_uri": "https://localhost:8080/"
        }
      },
      "outputs": [
        {
          "output_type": "execute_result",
          "data": {
            "text/plain": [
              "[2, 4, 6, 8, 10]"
            ]
          },
          "metadata": {},
          "execution_count": 21
        }
      ],
      "source": [
        "# Comprehensions let us perform elementwise computations.\n",
        "l = [1, 2, 3, 4, 5]\n",
        "[x * 2 for x in l]"
      ]
    },
    {
      "cell_type": "markdown",
      "source": [
        "**My own example 10**"
      ],
      "metadata": {
        "id": "9kVkY0MnaJAC"
      }
    },
    {
      "cell_type": "code",
      "source": [
        "z = [2, 3, 6, 10, 60]\n",
        "[x * 3 for x in z]"
      ],
      "metadata": {
        "colab": {
          "base_uri": "https://localhost:8080/"
        },
        "id": "HdY64B7VaLL6",
        "outputId": "b888443a-4910-44fc-adc0-08068eb10af6"
      },
      "execution_count": null,
      "outputs": [
        {
          "output_type": "execute_result",
          "data": {
            "text/plain": [
              "[6, 9, 18, 30, 180]"
            ]
          },
          "metadata": {},
          "execution_count": 22
        }
      ]
    },
    {
      "cell_type": "markdown",
      "metadata": {
        "ein.tags": "worksheet-0",
        "id": "gh1Uw4KtiXcK"
      },
      "source": [
        "## Review: Python Lists\n",
        "\n",
        "- Zero-indexed sequence of arbitrary Python values.\n",
        "- Slicing syntax: `l[start:stop:step]` copies elements at regular intervals from `start` to `stop`.\n",
        "- Efficient (`O(1)`) appends and removes from end.\n",
        "- Comprehension syntax: `[f(x) for x in l if cond(x)]`."
      ]
    },
    {
      "cell_type": "markdown",
      "metadata": {
        "id": "KPeFQQs5iXcK"
      },
      "source": [
        "# Dictionaries"
      ]
    },
    {
      "cell_type": "code",
      "execution_count": null,
      "metadata": {
        "id": "55GAxN3AiXcL",
        "outputId": "11f26733-bb78-4798-8bf2-35ca10210a74",
        "colab": {
          "base_uri": "https://localhost:8080/"
        }
      },
      "outputs": [
        {
          "output_type": "execute_result",
          "data": {
            "text/plain": [
              "{'David': 'Hume', 'Immanuel': 'Kant', 'Bertrand': 'Russell'}"
            ]
          },
          "metadata": {},
          "execution_count": 23
        }
      ],
      "source": [
        "# Dictionaries are key-value mappings.\n",
        "philosophers = {'David': 'Hume', 'Immanuel': 'Kant', 'Bertrand': 'Russell'}\n",
        "philosophers"
      ]
    },
    {
      "cell_type": "markdown",
      "source": [
        "**My own example 11**"
      ],
      "metadata": {
        "id": "Tgxm4lUgaVw6"
      }
    },
    {
      "cell_type": "code",
      "source": [
        "pilots = {'Micka': 'Hakkinen', 'Sebastian': 'Vettel', 'Lewis': 'Hamilton'}\n",
        "pilots"
      ],
      "metadata": {
        "colab": {
          "base_uri": "https://localhost:8080/"
        },
        "id": "HUSqD3RxaXgb",
        "outputId": "94d62f01-d9f1-489d-f72d-4bc092b487d5"
      },
      "execution_count": null,
      "outputs": [
        {
          "output_type": "execute_result",
          "data": {
            "text/plain": [
              "{'Micka': 'Hakkinen', 'Sebastian': 'Vettel', 'Lewis': 'Hamilton'}"
            ]
          },
          "metadata": {},
          "execution_count": 24
        }
      ]
    },
    {
      "cell_type": "code",
      "execution_count": null,
      "metadata": {
        "id": "V3JS2kHSiXcL",
        "outputId": "500af7b4-dc70-4363-ff56-f58c2d9121a7",
        "colab": {
          "base_uri": "https://localhost:8080/"
        }
      },
      "outputs": [
        {
          "output_type": "execute_result",
          "data": {
            "text/plain": [
              "{'David': 'Hume',\n",
              " 'Immanuel': 'Kant',\n",
              " 'Bertrand': 'Russell',\n",
              " 'Ludwig': 'Wittgenstein'}"
            ]
          },
          "metadata": {},
          "execution_count": 25
        }
      ],
      "source": [
        "# Like lists, dictionaries are size-mutable.\n",
        "philosophers['Ludwig'] = 'Wittgenstein'\n",
        "philosophers"
      ]
    },
    {
      "cell_type": "code",
      "source": [],
      "metadata": {
        "id": "6ghHSikXa5_q"
      },
      "execution_count": null,
      "outputs": []
    },
    {
      "cell_type": "markdown",
      "source": [
        "**My own example 12**"
      ],
      "metadata": {
        "id": "2_mHRu9iapMK"
      }
    },
    {
      "cell_type": "code",
      "source": [
        "pilots['Juan Pablo'] = 'Montoya'\n",
        "pilots"
      ],
      "metadata": {
        "colab": {
          "base_uri": "https://localhost:8080/"
        },
        "id": "8mXrAJRIarQk",
        "outputId": "edb25e41-89d1-41ee-b61f-77d53dad5984"
      },
      "execution_count": null,
      "outputs": [
        {
          "output_type": "execute_result",
          "data": {
            "text/plain": [
              "{'Micka': 'Hakkinen',\n",
              " 'Sebastian': 'Vettel',\n",
              " 'Lewis': 'Hamilton',\n",
              " 'Juan Pablo': 'Montoya'}"
            ]
          },
          "metadata": {},
          "execution_count": 26
        }
      ]
    },
    {
      "cell_type": "code",
      "execution_count": null,
      "metadata": {
        "id": "YRGePTociXcL",
        "outputId": "97409b05-e73a-4662-fb4b-8f48f42c4e40",
        "colab": {
          "base_uri": "https://localhost:8080/"
        }
      },
      "outputs": [
        {
          "output_type": "execute_result",
          "data": {
            "text/plain": [
              "{'Immanuel': 'Kant', 'Bertrand': 'Russell', 'Ludwig': 'Wittgenstein'}"
            ]
          },
          "metadata": {},
          "execution_count": 27
        }
      ],
      "source": [
        "del philosophers['David']\n",
        "philosophers"
      ]
    },
    {
      "cell_type": "markdown",
      "source": [
        "**My own example 13**"
      ],
      "metadata": {
        "id": "vRKu-ZwIa-9C"
      }
    },
    {
      "cell_type": "code",
      "source": [
        "del pilots ['Juan Pablo']\n",
        "pilots"
      ],
      "metadata": {
        "colab": {
          "base_uri": "https://localhost:8080/"
        },
        "id": "1inWqm5KbAyK",
        "outputId": "a79122cd-f2db-4991-db88-fe52b3e1a5c1"
      },
      "execution_count": null,
      "outputs": [
        {
          "output_type": "execute_result",
          "data": {
            "text/plain": [
              "{'Micka': 'Hakkinen', 'Sebastian': 'Vettel', 'Lewis': 'Hamilton'}"
            ]
          },
          "metadata": {},
          "execution_count": 28
        }
      ]
    },
    {
      "cell_type": "code",
      "execution_count": null,
      "metadata": {
        "id": "2E4f_6pQiXcM",
        "outputId": "2bcf1491-5f62-48ed-8f17-459e645a1933",
        "colab": {
          "base_uri": "https://localhost:8080/"
        }
      },
      "outputs": [
        {
          "output_type": "execute_result",
          "data": {
            "text/plain": [
              "{'Bertrand': 'Immanuel'}"
            ]
          },
          "metadata": {},
          "execution_count": 29
        }
      ],
      "source": [
        "# No slicing.\n",
        "import itertools\n",
        "philosophers = {'Bertrand':'Immanuel'}\n",
        "dict(itertools.islice(philosophers.items(), 1))"
      ]
    },
    {
      "cell_type": "markdown",
      "source": [
        "**My own example 14**"
      ],
      "metadata": {
        "id": "HieTPhnZbpAK"
      }
    },
    {
      "cell_type": "code",
      "source": [
        "import itertools\n",
        "pilots = {'Micka': 'Hakkinen',\n",
        " 'Sebastian': 'Vettel',\n",
        " 'Lewis': 'Hamilton',\n",
        " 'Juan Pablo': 'Montoya'}\n",
        "dict(itertools.islice(pilots.items(), 2))"
      ],
      "metadata": {
        "colab": {
          "base_uri": "https://localhost:8080/"
        },
        "id": "ACVn9wWxbrDa",
        "outputId": "7278cc2f-efdb-417d-b7f5-d1a3ea4bfce9"
      },
      "execution_count": null,
      "outputs": [
        {
          "output_type": "execute_result",
          "data": {
            "text/plain": [
              "{'Micka': 'Hakkinen', 'Sebastian': 'Vettel'}"
            ]
          },
          "metadata": {},
          "execution_count": 30
        }
      ]
    },
    {
      "cell_type": "markdown",
      "metadata": {
        "ein.tags": "worksheet-0",
        "id": "xvN8eqK2iXcM"
      },
      "source": [
        "## Review: Python Dictionaries\n",
        "\n",
        "- Unordered key-value mapping from (almost) arbitrary keys to arbitrary values.\n",
        "- Efficient (`O(1)`) lookup, insertion, and deletion.\n",
        "- No slicing (would require a notion of order)."
      ]
    },
    {
      "cell_type": "markdown",
      "metadata": {
        "id": "3C9gwhYDiXcM"
      },
      "source": [
        "<center><img src=\"https://raw.githubusercontent.com/ssanderson/pydata-toolbox/master/notebooks/images/pacino.gif\" alt=\"Drawing\" style=\"width: 100%;\"/></center>\n"
      ]
    },
    {
      "cell_type": "code",
      "execution_count": null,
      "metadata": {
        "collapsed": true,
        "id": "eqFZgJyyiXcM"
      },
      "outputs": [],
      "source": [
        "# Suppose we have some matrices...\n",
        "a = [[1, 2, 3],\n",
        "     [2, 3, 4],\n",
        "     [5, 6, 7],\n",
        "     [1, 1, 1]]\n",
        "\n",
        "b = [[1, 2, 3, 4],\n",
        "     [2, 3, 4, 5]]"
      ]
    },
    {
      "cell_type": "code",
      "execution_count": null,
      "metadata": {
        "collapsed": true,
        "id": "TfFqABAMiXcM"
      },
      "outputs": [],
      "source": [
        "def matmul(A, B):\n",
        "    \"\"\"Multiply matrix A by matrix B.\"\"\"\n",
        "    rows_out = len(A)\n",
        "    cols_out = len(B[0])\n",
        "    out = [[0 for col in range(cols_out)] for row in range(rows_out)]\n",
        "    \n",
        "    for i in range(rows_out):\n",
        "        for j in range(cols_out):\n",
        "            for k in range(len(B)):\n",
        "                out[i][j] += A[i][k] * B[k][j]\n",
        "    return out"
      ]
    },
    {
      "cell_type": "markdown",
      "metadata": {
        "id": "Yuee_jmYiXcN"
      },
      "source": [
        "<center><img src=\"https://raw.githubusercontent.com/ssanderson/pydata-toolbox/master/notebooks/images/gross.gif\" alt=\"Drawing\" style=\"width: 50%;\"/></center>\n"
      ]
    },
    {
      "cell_type": "code",
      "execution_count": null,
      "metadata": {
        "id": "PerN-NDRiXcN",
        "outputId": "357fdc22-4624-4976-895b-78e1d36b46a3",
        "colab": {
          "base_uri": "https://localhost:8080/"
        }
      },
      "outputs": [
        {
          "output_type": "stream",
          "name": "stdout",
          "text": [
            "CPU times: user 113 µs, sys: 0 ns, total: 113 µs\n",
            "Wall time: 143 µs\n"
          ]
        },
        {
          "output_type": "execute_result",
          "data": {
            "text/plain": [
              "[[5, 8, 11, 14], [8, 13, 18, 23], [17, 28, 39, 50], [3, 5, 7, 9]]"
            ]
          },
          "metadata": {},
          "execution_count": 33
        }
      ],
      "source": [
        "%%time\n",
        "\n",
        "matmul(a, b)"
      ]
    },
    {
      "cell_type": "markdown",
      "source": [
        "**My own example 15**"
      ],
      "metadata": {
        "id": "AAcF7qrOv8KF"
      }
    },
    {
      "cell_type": "code",
      "source": [
        "matriz_1 = [[16, 18, 89],\n",
        "     [33, 69, 17]]\n",
        "\n",
        "matriz_2 = [[12, 28, 13],\n",
        "     [23, 22, 18]]\n",
        "\n",
        "matmul(matriz_1, matriz_2)"
      ],
      "metadata": {
        "id": "BQl1PQDJwDkc",
        "colab": {
          "base_uri": "https://localhost:8080/"
        },
        "outputId": "cb565f7b-d136-4149-c05b-0ada6c9bef69"
      },
      "execution_count": null,
      "outputs": [
        {
          "output_type": "execute_result",
          "data": {
            "text/plain": [
              "[[606, 844, 532], [1983, 2442, 1671]]"
            ]
          },
          "metadata": {},
          "execution_count": 34
        }
      ]
    },
    {
      "cell_type": "code",
      "source": [
        "import random"
      ],
      "metadata": {
        "id": "Ip600JFN3qHX"
      },
      "execution_count": null,
      "outputs": []
    },
    {
      "cell_type": "code",
      "source": [
        "random.normalvariate(0,1)"
      ],
      "metadata": {
        "id": "HuDvpWbBkup-",
        "colab": {
          "base_uri": "https://localhost:8080/"
        },
        "outputId": "e325ddd2-ab0d-4a0b-8130-dfbd3b83fe5c"
      },
      "execution_count": null,
      "outputs": [
        {
          "output_type": "execute_result",
          "data": {
            "text/plain": [
              "-0.3892985983955826"
            ]
          },
          "metadata": {},
          "execution_count": 36
        }
      ]
    },
    {
      "cell_type": "code",
      "execution_count": null,
      "metadata": {
        "id": "X1tnwMvd3bIP",
        "colab": {
          "base_uri": "https://localhost:8080/"
        },
        "outputId": "23c205f1-0fa7-4f95-d636-bc2e39d284f1"
      },
      "outputs": [
        {
          "output_type": "execute_result",
          "data": {
            "text/plain": [
              "[[0.8541881859354363, 0.9100058653005807, 0.0033309358617844564],\n",
              " [0.08257673092657192, 0.9906664265636296, 0.021822147313798945]]"
            ]
          },
          "metadata": {},
          "execution_count": 37
        }
      ],
      "source": [
        "import random\n",
        "def random_matrix(m, n):\n",
        "    out = []\n",
        "    for row in range(m):\n",
        "        out.append([random.random() for _ in range(n)])\n",
        "    return out\n",
        "\n",
        "randm = random_matrix(2, 3)\n",
        "randm"
      ]
    },
    {
      "cell_type": "markdown",
      "source": [
        "**My own example 16**"
      ],
      "metadata": {
        "id": "3-eUeNjHhHP7"
      }
    },
    {
      "cell_type": "code",
      "source": [
        "matriz_aleatoria = random_matrix(3, 3)\n",
        "matriz_aleatoria"
      ],
      "metadata": {
        "id": "2fK25g003-ww",
        "colab": {
          "base_uri": "https://localhost:8080/"
        },
        "outputId": "1adc9783-78a8-4544-a8a8-e4ac705dddcb"
      },
      "execution_count": null,
      "outputs": [
        {
          "output_type": "execute_result",
          "data": {
            "text/plain": [
              "[[0.4493383418201544, 0.22696555123155815, 0.33412001531030044],\n",
              " [0.827691191053354, 0.820541167989495, 0.21897480430064908],\n",
              " [0.3419333323279379, 0.7528974492010445, 0.2994509030920971]]"
            ]
          },
          "metadata": {},
          "execution_count": 38
        }
      ]
    },
    {
      "cell_type": "code",
      "execution_count": null,
      "metadata": {
        "scrolled": true,
        "id": "M5czoKckiXcN",
        "colab": {
          "base_uri": "https://localhost:8080/"
        },
        "outputId": "69ef28a6-0a68-446b-fcea-195f0bb40960"
      },
      "outputs": [
        {
          "output_type": "stream",
          "name": "stdout",
          "text": [
            "CPU times: user 15.3 s, sys: 102 ms, total: 15.4 s\n",
            "Wall time: 21.8 s\n"
          ]
        }
      ],
      "source": [
        "%%time\n",
        "randa = random_matrix(600, 100)\n",
        "randb = random_matrix(100, 600)\n",
        "x = matmul(randa, randb)"
      ]
    },
    {
      "cell_type": "markdown",
      "source": [
        "**My own example 17**"
      ],
      "metadata": {
        "id": "52cXTHoho_KF"
      }
    },
    {
      "cell_type": "code",
      "source": [
        "%%time\n",
        "mat_1 = random_matrix(1000, 200)\n",
        "mat_2 = random_matrix(80, 1000)\n",
        "resul = matmul(mat_1, mat_2)"
      ],
      "metadata": {
        "id": "UtwP8Tl2o_f8",
        "colab": {
          "base_uri": "https://localhost:8080/"
        },
        "outputId": "1e30064c-0ed3-4002-ac4f-41906619e794"
      },
      "execution_count": null,
      "outputs": [
        {
          "output_type": "stream",
          "name": "stdout",
          "text": [
            "CPU times: user 28.3 s, sys: 165 ms, total: 28.5 s\n",
            "Wall time: 31.7 s\n"
          ]
        }
      ]
    },
    {
      "cell_type": "code",
      "execution_count": null,
      "metadata": {
        "collapsed": true,
        "id": "hXy_q4S8iXcN"
      },
      "outputs": [],
      "source": [
        "# Maybe that's not that bad?  Let's try a simpler case.\n",
        "def python_dot_product(xs, ys):\n",
        "    return sum(x * y for x, y in zip(xs, ys))"
      ]
    },
    {
      "cell_type": "code",
      "execution_count": null,
      "metadata": {
        "collapsed": true,
        "id": "qylqVrbqiXcO"
      },
      "outputs": [],
      "source": [
        "%%fortran\n",
        "subroutine fortran_dot_product(xs, ys, result)\n",
        "    double precision, intent(in) :: xs(:)\n",
        "    double precision, intent(in) :: ys(:)\n",
        "    double precision, intent(out) :: result\n",
        "    \n",
        "    result = sum(xs * ys)\n",
        "end"
      ]
    },
    {
      "cell_type": "code",
      "execution_count": null,
      "metadata": {
        "collapsed": true,
        "id": "BGacVDX-iXcO"
      },
      "outputs": [],
      "source": [
        "list_data = [float(i) for i in range(100000)]\n",
        "array_data = np.array(list_data)"
      ]
    },
    {
      "cell_type": "code",
      "execution_count": null,
      "metadata": {
        "id": "aaZPRE4aiXcO",
        "colab": {
          "base_uri": "https://localhost:8080/"
        },
        "outputId": "ced0910b-3a51-465a-a0e5-436ac3f9ef5a"
      },
      "outputs": [
        {
          "output_type": "stream",
          "name": "stdout",
          "text": [
            "CPU times: user 41.7 ms, sys: 14 µs, total: 41.7 ms\n",
            "Wall time: 42.7 ms\n"
          ]
        },
        {
          "output_type": "execute_result",
          "data": {
            "text/plain": [
              "333328333350000.0"
            ]
          },
          "metadata": {},
          "execution_count": 44
        }
      ],
      "source": [
        "%%time\n",
        "python_dot_product(list_data, list_data)"
      ]
    },
    {
      "cell_type": "code",
      "execution_count": null,
      "metadata": {
        "id": "e9tNvTwLiXcO",
        "colab": {
          "base_uri": "https://localhost:8080/"
        },
        "outputId": "f7c49988-a3cf-452e-94c3-dacde172b74c"
      },
      "outputs": [
        {
          "output_type": "stream",
          "name": "stdout",
          "text": [
            "CPU times: user 204 µs, sys: 4 µs, total: 208 µs\n",
            "Wall time: 213 µs\n"
          ]
        },
        {
          "output_type": "execute_result",
          "data": {
            "text/plain": [
              "333328333350000.0"
            ]
          },
          "metadata": {},
          "execution_count": 45
        }
      ],
      "source": [
        "%%time\n",
        "fortran_dot_product(array_data, array_data)"
      ]
    },
    {
      "cell_type": "markdown",
      "metadata": {
        "id": "qW-_Q7yuiXcO"
      },
      "source": [
        "<center><img src=\"https://raw.githubusercontent.com/ssanderson/pydata-toolbox/master/notebooks/images/sloth.gif\" alt=\"Drawing\" style=\"width: 1080px;\"/></center>\n"
      ]
    },
    {
      "cell_type": "markdown",
      "metadata": {
        "id": "5RlZ-kCGiXcO"
      },
      "source": [
        "asdsdsassy is the Python Version so Much Slower?"
      ]
    },
    {
      "cell_type": "code",
      "execution_count": null,
      "metadata": {
        "id": "rWOUuY4QiXcP",
        "colab": {
          "base_uri": "https://localhost:8080/"
        },
        "outputId": "a6cd7a8d-74ff-4307-e58a-4b6a9fb7514f"
      },
      "outputs": [
        {
          "output_type": "execute_result",
          "data": {
            "text/plain": [
              "[1, (4+0j), 9.0, 'fourfourfourfour']"
            ]
          },
          "metadata": {},
          "execution_count": 46
        }
      ],
      "source": [
        "# Dynamic typing.\n",
        "def mul_elemwise(xs, ys):\n",
        "    return [x * y for x, y in zip(xs, ys)]\n",
        "\n",
        "mul_elemwise([1, 2, 3, 4], [1, 2 + 0j, 3.0, 'four'])\n",
        "#[type(x) for x in _]"
      ]
    },
    {
      "cell_type": "markdown",
      "source": [
        "**My own example 18**"
      ],
      "metadata": {
        "id": "Bkr37tOPqpNC"
      }
    },
    {
      "cell_type": "code",
      "source": [
        "def mul_eje18(xs, ys):\n",
        "    return [x * y for x, y in zip(xs, ys)]\n",
        "\n",
        "mul_elemwise([5, 6, 7, 8], [1, 2 + 0j, 4.0, 'cinco'])"
      ],
      "metadata": {
        "id": "J76fuIBmqpbY",
        "colab": {
          "base_uri": "https://localhost:8080/"
        },
        "outputId": "f1caaa44-9dfd-4b8c-8b91-a186cd93dba3"
      },
      "execution_count": null,
      "outputs": [
        {
          "output_type": "execute_result",
          "data": {
            "text/plain": [
              "[5, (12+0j), 28.0, 'cincocincocincocincocincocincocincocinco']"
            ]
          },
          "metadata": {},
          "execution_count": 47
        }
      ]
    },
    {
      "cell_type": "code",
      "execution_count": null,
      "metadata": {
        "id": "cW0Jexk6iXcP",
        "colab": {
          "base_uri": "https://localhost:8080/"
        },
        "outputId": "a6a7efad-1368-427d-b6e5-5cbea7ea4982"
      },
      "outputs": [
        {
          "output_type": "stream",
          "name": "stdout",
          "text": [
            "  1           0 LOAD_NAME                0 (a)\n",
            "              2 LOAD_NAME                1 (b)\n",
            "              4 LOAD_NAME                2 (c)\n",
            "              6 BINARY_MULTIPLY\n",
            "              8 BINARY_ADD\n",
            "             10 RETURN_VALUE\n"
          ]
        }
      ],
      "source": [
        "# Interpretation overhead.\n",
        "source_code = 'a + b * c'\n",
        "bytecode = compile(source_code, '', 'eval')\n",
        "import dis; dis.dis(bytecode)"
      ]
    },
    {
      "cell_type": "markdown",
      "source": [
        "**my own example 19**"
      ],
      "metadata": {
        "id": "TKmXYnZ2rOzD"
      }
    },
    {
      "cell_type": "code",
      "source": [
        "buscar_codigo = 'd + e * f'\n",
        "codigo = compile(buscar_codigo, '', 'eval')\n",
        "import dis; dis.dis(codigo)"
      ],
      "metadata": {
        "id": "lQ0sttinrSX7",
        "colab": {
          "base_uri": "https://localhost:8080/"
        },
        "outputId": "5bda991f-c798-443a-a9db-ebe674233914"
      },
      "execution_count": null,
      "outputs": [
        {
          "output_type": "stream",
          "name": "stdout",
          "text": [
            "  1           0 LOAD_NAME                0 (d)\n",
            "              2 LOAD_NAME                1 (e)\n",
            "              4 LOAD_NAME                2 (f)\n",
            "              6 BINARY_MULTIPLY\n",
            "              8 BINARY_ADD\n",
            "             10 RETURN_VALUE\n"
          ]
        }
      ]
    },
    {
      "cell_type": "markdown",
      "metadata": {
        "id": "BdvCAketiXcP"
      },
      "source": [
        "## Why is the Python Version so Slow?\n",
        "- Dynamic typing means that every single operation requires dispatching on the input type.\n",
        "- Having an interpreter means that every instruction is fetched and dispatched at runtime.\n",
        "- Other overheads:\n",
        "  - Arbitrary-size integers.\n",
        "  - Reference-counted garbage collection."
      ]
    },
    {
      "cell_type": "markdown",
      "metadata": {
        "id": "zvFKYtobiXcP"
      },
      "source": [
        "> This is the paradox that we have to work with when we're doing scientific or numerically-intensive Python. What makes Python fast for development -- this high-level, interpreted, and dynamically-typed aspect of the language -- is exactly what makes it slow for code execution.\n",
        "\n",
        "- Jake VanderPlas, [*Losing Your Loops: Fast Numerical Computing with NumPy*](https://www.youtube.com/watch?v=EEUXKG97YRw)"
      ]
    },
    {
      "cell_type": "markdown",
      "metadata": {
        "id": "UqE431pkiXcP"
      },
      "source": [
        "# What Do We Do?"
      ]
    },
    {
      "cell_type": "markdown",
      "metadata": {
        "id": "4uh7h3HyiXcP"
      },
      "source": [
        "<center><img src=\"https://raw.githubusercontent.com/ssanderson/pydata-toolbox/master/notebooks/images/runaway.gif\" alt=\"Drawing\" style=\"width: 50%;\"/></center>"
      ]
    },
    {
      "cell_type": "markdown",
      "metadata": {
        "id": "-9z62YT1iXcP"
      },
      "source": [
        "<center><img src=\"https://raw.githubusercontent.com/ssanderson/pydata-toolbox/master/notebooks/images/thisisfine.gif\" alt=\"Drawing\" style=\"width: 1080px;\"/></center>"
      ]
    },
    {
      "cell_type": "markdown",
      "metadata": {
        "id": "0Moc6UrkiXcQ"
      },
      "source": [
        "- Python is slow for numerical computation because it performs dynamic dispatch on every operation we perform..."
      ]
    },
    {
      "cell_type": "markdown",
      "metadata": {
        "collapsed": true,
        "id": "U4gN8tp2iXcQ"
      },
      "source": [
        "- ...but often, we just want to do the same thing over and over in a loop!"
      ]
    },
    {
      "cell_type": "markdown",
      "metadata": {
        "id": "Yu0ySyEhiXcQ"
      },
      "source": [
        "- If we don't need Python's dynamicism, we don't want to pay (much) for it."
      ]
    },
    {
      "cell_type": "markdown",
      "metadata": {
        "id": "KUwG9isRiXcQ"
      },
      "source": [
        "- **Idea:** Dispatch **once per operation** instead of **once per element**."
      ]
    },
    {
      "cell_type": "code",
      "execution_count": null,
      "metadata": {
        "id": "62itImahiXcQ",
        "colab": {
          "base_uri": "https://localhost:8080/"
        },
        "outputId": "63e341ed-a426-4366-d1a9-1bd594ab4104"
      },
      "outputs": [
        {
          "output_type": "execute_result",
          "data": {
            "text/plain": [
              "array([1, 2, 3, 4])"
            ]
          },
          "metadata": {},
          "execution_count": 50
        }
      ],
      "source": [
        "import numpy as np\n",
        "\n",
        "data = np.array([1, 2, 3, 4])\n",
        "data"
      ]
    },
    {
      "cell_type": "markdown",
      "source": [
        "**My own example 20**"
      ],
      "metadata": {
        "id": "MvY_uEBV64kz"
      }
    },
    {
      "cell_type": "code",
      "source": [
        "import numpy as np\n",
        "\n",
        "array = np.array([11, 16, 77, 47])\n",
        "array"
      ],
      "metadata": {
        "id": "9rEZ3U6P66sM",
        "colab": {
          "base_uri": "https://localhost:8080/"
        },
        "outputId": "72a28612-4505-4fa6-a66d-e39b4deb4a41"
      },
      "execution_count": null,
      "outputs": [
        {
          "output_type": "execute_result",
          "data": {
            "text/plain": [
              "array([11, 16, 77, 47])"
            ]
          },
          "metadata": {},
          "execution_count": 51
        }
      ]
    },
    {
      "cell_type": "code",
      "execution_count": null,
      "metadata": {
        "id": "q6qikr_tiXcQ",
        "colab": {
          "base_uri": "https://localhost:8080/"
        },
        "outputId": "6e35d73c-68e7-4f55-e140-e9f5ee520f09"
      },
      "outputs": [
        {
          "output_type": "execute_result",
          "data": {
            "text/plain": [
              "array([2, 4, 6, 8])"
            ]
          },
          "metadata": {},
          "execution_count": 52
        }
      ],
      "source": [
        "data + data"
      ]
    },
    {
      "cell_type": "markdown",
      "source": [
        "**My own example 21**"
      ],
      "metadata": {
        "id": "bH-1888gsA7r"
      }
    },
    {
      "cell_type": "code",
      "source": [
        "array + array"
      ],
      "metadata": {
        "id": "x_QP9r5HsBLg",
        "colab": {
          "base_uri": "https://localhost:8080/"
        },
        "outputId": "f06a86a1-f8a5-468f-cd36-bf7c70ba4a39"
      },
      "execution_count": null,
      "outputs": [
        {
          "output_type": "execute_result",
          "data": {
            "text/plain": [
              "array([ 22,  32, 154,  94])"
            ]
          },
          "metadata": {},
          "execution_count": 53
        }
      ]
    },
    {
      "cell_type": "code",
      "execution_count": null,
      "metadata": {
        "id": "26QlWUw8iXcQ",
        "colab": {
          "base_uri": "https://localhost:8080/"
        },
        "outputId": "930bfeea-7954-4edf-b062-31d103cf2918"
      },
      "outputs": [
        {
          "output_type": "stream",
          "name": "stdout",
          "text": [
            "CPU times: user 396 µs, sys: 1 ms, total: 1.4 ms\n",
            "Wall time: 1.41 ms\n"
          ]
        },
        {
          "output_type": "execute_result",
          "data": {
            "text/plain": [
              "333328333350000.0"
            ]
          },
          "metadata": {},
          "execution_count": 54
        }
      ],
      "source": [
        "%%time\n",
        "# Naive dot product\n",
        "(array_data * array_data).sum()"
      ]
    },
    {
      "cell_type": "code",
      "execution_count": null,
      "metadata": {
        "id": "xoigDrpEiXcQ",
        "colab": {
          "base_uri": "https://localhost:8080/"
        },
        "outputId": "8940d7df-b625-4852-8a2d-1359c55181db"
      },
      "outputs": [
        {
          "output_type": "stream",
          "name": "stdout",
          "text": [
            "CPU times: user 0 ns, sys: 2.87 ms, total: 2.87 ms\n",
            "Wall time: 3.06 ms\n"
          ]
        },
        {
          "output_type": "execute_result",
          "data": {
            "text/plain": [
              "333328333350000.0"
            ]
          },
          "metadata": {},
          "execution_count": 55
        }
      ],
      "source": [
        "%%time\n",
        "# Built-in dot product.\n",
        "array_data.dot(array_data)"
      ]
    },
    {
      "cell_type": "code",
      "execution_count": null,
      "metadata": {
        "id": "tcewetQ0iXcR",
        "colab": {
          "base_uri": "https://localhost:8080/"
        },
        "outputId": "ec3003e0-6ceb-4a76-84f2-43b3e5565716"
      },
      "outputs": [
        {
          "output_type": "stream",
          "name": "stdout",
          "text": [
            "CPU times: user 425 µs, sys: 0 ns, total: 425 µs\n",
            "Wall time: 219 µs\n"
          ]
        },
        {
          "output_type": "execute_result",
          "data": {
            "text/plain": [
              "333328333350000.0"
            ]
          },
          "metadata": {},
          "execution_count": 56
        }
      ],
      "source": [
        "%%time\n",
        "fortran_dot_product(array_data, array_data)"
      ]
    },
    {
      "cell_type": "code",
      "execution_count": null,
      "metadata": {
        "id": "Whkcgo1xiXcR",
        "colab": {
          "base_uri": "https://localhost:8080/",
          "height": 183
        },
        "outputId": "7be97514-402e-4c6a-922a-b1618d0e1f36"
      },
      "outputs": [
        {
          "output_type": "error",
          "ename": "ValueError",
          "evalue": "ignored",
          "traceback": [
            "\u001b[0;31m---------------------------------------------------------------------------\u001b[0m",
            "\u001b[0;31mValueError\u001b[0m                                Traceback (most recent call last)",
            "\u001b[0;32m<ipython-input-57-1ae73c964fd5>\u001b[0m in \u001b[0;36m<module>\u001b[0;34m\u001b[0m\n\u001b[1;32m      1\u001b[0m \u001b[0;31m# Numpy won't allow us to write a string into an int array.\u001b[0m\u001b[0;34m\u001b[0m\u001b[0;34m\u001b[0m\u001b[0;34m\u001b[0m\u001b[0m\n\u001b[0;32m----> 2\u001b[0;31m \u001b[0mdata\u001b[0m\u001b[0;34m[\u001b[0m\u001b[0;36m0\u001b[0m\u001b[0;34m]\u001b[0m \u001b[0;34m=\u001b[0m \u001b[0;34m\"foo\"\u001b[0m\u001b[0;34m\u001b[0m\u001b[0;34m\u001b[0m\u001b[0m\n\u001b[0m",
            "\u001b[0;31mValueError\u001b[0m: invalid literal for int() with base 10: 'foo'"
          ]
        }
      ],
      "source": [
        "# Numpy won't allow us to write a string into an int array.\n",
        "data[0] = \"foo\""
      ]
    },
    {
      "cell_type": "code",
      "execution_count": null,
      "metadata": {
        "collapsed": true,
        "id": "OM_YUwF0iXcR",
        "colab": {
          "base_uri": "https://localhost:8080/",
          "height": 183
        },
        "outputId": "9a3a3fd3-11fc-4212-9e18-a3c496e4f8ca"
      },
      "outputs": [
        {
          "output_type": "error",
          "ename": "AttributeError",
          "evalue": "ignored",
          "traceback": [
            "\u001b[0;31m---------------------------------------------------------------------------\u001b[0m",
            "\u001b[0;31mAttributeError\u001b[0m                            Traceback (most recent call last)",
            "\u001b[0;32m<ipython-input-58-8cdaf5ab44b5>\u001b[0m in \u001b[0;36m<module>\u001b[0;34m\u001b[0m\n\u001b[1;32m      1\u001b[0m \u001b[0;31m# We also can't grow an array once it's created.\u001b[0m\u001b[0;34m\u001b[0m\u001b[0;34m\u001b[0m\u001b[0;34m\u001b[0m\u001b[0m\n\u001b[0;32m----> 2\u001b[0;31m \u001b[0mdata\u001b[0m\u001b[0;34m.\u001b[0m\u001b[0mappend\u001b[0m\u001b[0;34m(\u001b[0m\u001b[0;36m3\u001b[0m\u001b[0;34m)\u001b[0m\u001b[0;34m\u001b[0m\u001b[0;34m\u001b[0m\u001b[0m\n\u001b[0m",
            "\u001b[0;31mAttributeError\u001b[0m: 'numpy.ndarray' object has no attribute 'append'"
          ]
        }
      ],
      "source": [
        "# We also can't grow an array once it's created.\n",
        "data.append(3)"
      ]
    },
    {
      "cell_type": "code",
      "execution_count": null,
      "metadata": {
        "collapsed": true,
        "id": "_ByTInO5iXcR",
        "colab": {
          "base_uri": "https://localhost:8080/"
        },
        "outputId": "303b41ff-3435-4b6d-80a9-de22aacb03ea"
      },
      "outputs": [
        {
          "output_type": "execute_result",
          "data": {
            "text/plain": [
              "array([[1, 2],\n",
              "       [3, 4]])"
            ]
          },
          "metadata": {},
          "execution_count": 59
        }
      ],
      "source": [
        "# We **can** reshape an array though.\n",
        "two_by_two = data.reshape(2, 2)\n",
        "two_by_two"
      ]
    },
    {
      "cell_type": "markdown",
      "metadata": {
        "id": "rqUM9z90iXcR"
      },
      "source": [
        "Numpy arrays are:\n",
        "\n",
        "- Fixed-type"
      ]
    },
    {
      "cell_type": "markdown",
      "metadata": {
        "id": "xI5M1gzviXcR"
      },
      "source": [
        "- Size-immutable"
      ]
    },
    {
      "cell_type": "markdown",
      "metadata": {
        "id": "Xb7Dkl2tiXcS"
      },
      "source": [
        "- Multi-dimensional"
      ]
    },
    {
      "cell_type": "markdown",
      "metadata": {
        "id": "r0oMRqQXiXcS"
      },
      "source": [
        "- Fast\\*"
      ]
    },
    {
      "cell_type": "markdown",
      "metadata": {
        "id": "kz1MurDBiXcS"
      },
      "source": [
        "\\* If you use them correctly."
      ]
    },
    {
      "cell_type": "markdown",
      "metadata": {
        "id": "Qivn_IZOiXcS"
      },
      "source": [
        "# What's in an Array?"
      ]
    },
    {
      "cell_type": "code",
      "execution_count": null,
      "metadata": {
        "id": "vAuc9ZoYiXcS",
        "colab": {
          "base_uri": "https://localhost:8080/"
        },
        "outputId": "198da902-252a-44d9-db73-5c0fe806b3d4"
      },
      "outputs": [
        {
          "output_type": "stream",
          "name": "stdout",
          "text": [
            "Array:\n",
            "[[1 2 3]\n",
            " [4 5 6]]\n",
            "===========\n",
            "DType: int16\n",
            "Shape: (2, 3)\n",
            "Strides: (6, 2)\n",
            "Data: b'\\x01\\x00\\x02\\x00\\x03\\x00\\x04\\x00\\x05\\x00\\x06\\x00'\n"
          ]
        }
      ],
      "source": [
        "arr = np.array([1, 2, 3, 4, 5, 6], dtype='int16').reshape(2, 3)\n",
        "print(\"Array:\\n\", arr, sep='')\n",
        "print(\"===========\")\n",
        "print(\"DType:\", arr.dtype)\n",
        "print(\"Shape:\", arr.shape)\n",
        "print(\"Strides:\", arr.strides)\n",
        "print(\"Data:\", arr.data.tobytes())"
      ]
    },
    {
      "cell_type": "markdown",
      "source": [
        "**My own example 22**"
      ],
      "metadata": {
        "id": "6N8UMt4RVvea"
      }
    },
    {
      "cell_type": "code",
      "source": [
        "edificio = np.array([700, 702, 380, 405, 545, 681], dtype='int16').reshape(2, 3)\n",
        "print(\"Array:\\n\", edificio, sep='')\n",
        "print(\"===========\")\n",
        "print(\"DType:\", edificio.dtype)\n",
        "print(\"Shape:\", edificio.shape)\n",
        "print(\"Strides:\", edificio.strides)\n",
        "print(\"Data:\", edificio.data.tobytes())"
      ],
      "metadata": {
        "id": "aTo78ZtPVyMd",
        "colab": {
          "base_uri": "https://localhost:8080/"
        },
        "outputId": "71fac295-a4a8-4647-e8fe-3ac7149e77cd"
      },
      "execution_count": null,
      "outputs": [
        {
          "output_type": "stream",
          "name": "stdout",
          "text": [
            "Array:\n",
            "[[700 702 380]\n",
            " [405 545 681]]\n",
            "===========\n",
            "DType: int16\n",
            "Shape: (2, 3)\n",
            "Strides: (6, 2)\n",
            "Data: b'\\xbc\\x02\\xbe\\x02|\\x01\\x95\\x01!\\x02\\xa9\\x02'\n"
          ]
        }
      ]
    },
    {
      "cell_type": "markdown",
      "metadata": {
        "id": "K81LXWsCiXcS"
      },
      "source": [
        "# Core Operations\n",
        "\n",
        "- Vectorized **ufuncs** for elementwise operations.\n",
        "- Fancy indexing and masking for selection and filtering.\n",
        "- Aggregations across axes.\n",
        "- Broadcasting"
      ]
    },
    {
      "cell_type": "markdown",
      "metadata": {
        "id": "kwVm_T0UiXcS"
      },
      "source": [
        "# UFuncs\n",
        "\n",
        "UFuncs (universal functions) are functions that operate elementwise on one or more arrays."
      ]
    },
    {
      "cell_type": "code",
      "execution_count": null,
      "metadata": {
        "id": "bltDIE9jiXcS",
        "colab": {
          "base_uri": "https://localhost:8080/"
        },
        "outputId": "b2456399-fe25-47b5-8897-87bb84eb50fe"
      },
      "outputs": [
        {
          "output_type": "execute_result",
          "data": {
            "text/plain": [
              "array([[ 0,  1,  2,  3,  4],\n",
              "       [ 5,  6,  7,  8,  9],\n",
              "       [10, 11, 12, 13, 14]])"
            ]
          },
          "metadata": {},
          "execution_count": 62
        }
      ],
      "source": [
        "data = np.arange(15).reshape(3, 5)\n",
        "data"
      ]
    },
    {
      "cell_type": "markdown",
      "source": [
        "**My own example 23**"
      ],
      "metadata": {
        "id": "9Oea1GFWY6Mq"
      }
    },
    {
      "cell_type": "code",
      "source": [
        "matrix = np.arange(20).reshape(5,4 )\n",
        "matrix"
      ],
      "metadata": {
        "id": "mBB3UXPSY8Dq",
        "colab": {
          "base_uri": "https://localhost:8080/"
        },
        "outputId": "8ef5e4eb-354d-4d98-ffe2-a593c2671cfd"
      },
      "execution_count": null,
      "outputs": [
        {
          "output_type": "execute_result",
          "data": {
            "text/plain": [
              "array([[ 0,  1,  2,  3],\n",
              "       [ 4,  5,  6,  7],\n",
              "       [ 8,  9, 10, 11],\n",
              "       [12, 13, 14, 15],\n",
              "       [16, 17, 18, 19]])"
            ]
          },
          "metadata": {},
          "execution_count": 63
        }
      ]
    },
    {
      "cell_type": "code",
      "execution_count": null,
      "metadata": {
        "id": "STwE0VCpiXcT",
        "colab": {
          "base_uri": "https://localhost:8080/"
        },
        "outputId": "5fe80ff1-6fab-4e2f-87db-1c6fdfa3ee31"
      },
      "outputs": [
        {
          "output_type": "execute_result",
          "data": {
            "text/plain": [
              "array([[  0,   1,   4,   9,  16],\n",
              "       [ 25,  36,  49,  64,  81],\n",
              "       [100, 121, 144, 169, 196]])"
            ]
          },
          "metadata": {},
          "execution_count": 64
        }
      ],
      "source": [
        "# Binary operators.\n",
        "data * data"
      ]
    },
    {
      "cell_type": "markdown",
      "source": [
        "\n",
        "\n",
        "**My own example 24**"
      ],
      "metadata": {
        "id": "cRCdia4oZPee"
      }
    },
    {
      "cell_type": "code",
      "source": [
        "matrix * matrix"
      ],
      "metadata": {
        "id": "f59eQKByZRkC",
        "colab": {
          "base_uri": "https://localhost:8080/"
        },
        "outputId": "18301d53-d049-473e-e6df-b3437183e688"
      },
      "execution_count": null,
      "outputs": [
        {
          "output_type": "execute_result",
          "data": {
            "text/plain": [
              "array([[  0,   1,   4,   9],\n",
              "       [ 16,  25,  36,  49],\n",
              "       [ 64,  81, 100, 121],\n",
              "       [144, 169, 196, 225],\n",
              "       [256, 289, 324, 361]])"
            ]
          },
          "metadata": {},
          "execution_count": 65
        }
      ]
    },
    {
      "cell_type": "code",
      "execution_count": null,
      "metadata": {
        "id": "N__jqMifiXcT",
        "colab": {
          "base_uri": "https://localhost:8080/"
        },
        "outputId": "ee0e6dbf-9911-4929-873f-8c76dc88d0af"
      },
      "outputs": [
        {
          "output_type": "execute_result",
          "data": {
            "text/plain": [
              "array([[0.        , 1.        , 1.41421356, 1.73205081, 2.        ],\n",
              "       [2.23606798, 2.44948974, 2.64575131, 2.82842712, 3.        ],\n",
              "       [3.16227766, 3.31662479, 3.46410162, 3.60555128, 3.74165739]])"
            ]
          },
          "metadata": {},
          "execution_count": 66
        }
      ],
      "source": [
        "# Unary functions.\n",
        "np.sqrt(data)"
      ]
    },
    {
      "cell_type": "markdown",
      "source": [
        "\n",
        "**My own example 25**"
      ],
      "metadata": {
        "id": "kAojcM5KZYyr"
      }
    },
    {
      "cell_type": "code",
      "source": [
        "np.sqrt(matrix)"
      ],
      "metadata": {
        "id": "jOGJYi2aZbIB",
        "colab": {
          "base_uri": "https://localhost:8080/"
        },
        "outputId": "4a3b5b9e-f6eb-4b5a-eb47-9a5a1a1c7fd7"
      },
      "execution_count": null,
      "outputs": [
        {
          "output_type": "execute_result",
          "data": {
            "text/plain": [
              "array([[0.        , 1.        , 1.41421356, 1.73205081],\n",
              "       [2.        , 2.23606798, 2.44948974, 2.64575131],\n",
              "       [2.82842712, 3.        , 3.16227766, 3.31662479],\n",
              "       [3.46410162, 3.60555128, 3.74165739, 3.87298335],\n",
              "       [4.        , 4.12310563, 4.24264069, 4.35889894]])"
            ]
          },
          "metadata": {},
          "execution_count": 67
        }
      ]
    },
    {
      "cell_type": "code",
      "execution_count": null,
      "metadata": {
        "id": "j-2fPm3LiXcT",
        "colab": {
          "base_uri": "https://localhost:8080/"
        },
        "outputId": "fd05cd0a-e003-4a03-9470-43b88ff3d60a"
      },
      "outputs": [
        {
          "output_type": "execute_result",
          "data": {
            "text/plain": [
              "array([[ True, False, False,  True, False],\n",
              "       [False,  True, False, False,  True],\n",
              "       [False, False,  True, False, False]])"
            ]
          },
          "metadata": {},
          "execution_count": 68
        }
      ],
      "source": [
        "# Comparison operations\n",
        "(data % 3) == 0"
      ]
    },
    {
      "cell_type": "markdown",
      "source": [
        "**My own example 26**"
      ],
      "metadata": {
        "id": "AI5qp9RyaNkl"
      }
    },
    {
      "cell_type": "code",
      "source": [
        "(matrix % 2) == 0"
      ],
      "metadata": {
        "id": "bIqNRh08aPv1",
        "colab": {
          "base_uri": "https://localhost:8080/"
        },
        "outputId": "b7af3624-e8c4-4aaf-e7f3-0f3c7f8104e8"
      },
      "execution_count": null,
      "outputs": [
        {
          "output_type": "execute_result",
          "data": {
            "text/plain": [
              "array([[ True, False,  True, False],\n",
              "       [ True, False,  True, False],\n",
              "       [ True, False,  True, False],\n",
              "       [ True, False,  True, False],\n",
              "       [ True, False,  True, False]])"
            ]
          },
          "metadata": {},
          "execution_count": 69
        }
      ]
    },
    {
      "cell_type": "code",
      "execution_count": null,
      "metadata": {
        "id": "iDUXVIuhiXcT",
        "colab": {
          "base_uri": "https://localhost:8080/"
        },
        "outputId": "8a312619-b2d6-4d57-f70e-7891c7969861"
      },
      "outputs": [
        {
          "output_type": "execute_result",
          "data": {
            "text/plain": [
              "array([[ True, False, False, False, False],\n",
              "       [False,  True, False, False, False],\n",
              "       [False, False,  True, False, False]])"
            ]
          },
          "metadata": {},
          "execution_count": 70
        }
      ],
      "source": [
        "# Boolean combinators.\n",
        "((data % 2) == 0) & ((data % 3) == 0)"
      ]
    },
    {
      "cell_type": "markdown",
      "source": [
        "**My own example 27**"
      ],
      "metadata": {
        "id": "FUJZFBV5ag-Y"
      }
    },
    {
      "cell_type": "code",
      "source": [
        "((matrix % 2) == 0) & ((matrix % 3) == 0)"
      ],
      "metadata": {
        "id": "C743SzrVawnV",
        "colab": {
          "base_uri": "https://localhost:8080/"
        },
        "outputId": "ece387f9-951e-46ef-e31d-aff23952798b"
      },
      "execution_count": null,
      "outputs": [
        {
          "output_type": "execute_result",
          "data": {
            "text/plain": [
              "array([[ True, False, False, False],\n",
              "       [False, False,  True, False],\n",
              "       [False, False, False, False],\n",
              "       [ True, False, False, False],\n",
              "       [False, False,  True, False]])"
            ]
          },
          "metadata": {},
          "execution_count": 71
        }
      ]
    },
    {
      "cell_type": "code",
      "execution_count": null,
      "metadata": {
        "id": "f2FWSuiJiXcT",
        "colab": {
          "base_uri": "https://localhost:8080/"
        },
        "outputId": "50d1a742-8869-43f6-b720-9cca81d9788e"
      },
      "outputs": [
        {
          "output_type": "execute_result",
          "data": {
            "text/plain": [
              "array([[ 30,  80, 130],\n",
              "       [ 80, 255, 430],\n",
              "       [130, 430, 730]])"
            ]
          },
          "metadata": {},
          "execution_count": 72
        }
      ],
      "source": [
        "# as of python 3.5, @ is matrix-multiply\n",
        "data @ data.T"
      ]
    },
    {
      "cell_type": "markdown",
      "source": [
        "**My own example 28**"
      ],
      "metadata": {
        "id": "MgDZgLNfa1Sb"
      }
    },
    {
      "cell_type": "code",
      "source": [
        "matrix @ matrix.T"
      ],
      "metadata": {
        "id": "4OosCWaia3TK",
        "colab": {
          "base_uri": "https://localhost:8080/"
        },
        "outputId": "a9677072-d8e6-484c-d086-703f1f0e6e1f"
      },
      "execution_count": null,
      "outputs": [
        {
          "output_type": "execute_result",
          "data": {
            "text/plain": [
              "array([[  14,   38,   62,   86,  110],\n",
              "       [  38,  126,  214,  302,  390],\n",
              "       [  62,  214,  366,  518,  670],\n",
              "       [  86,  302,  518,  734,  950],\n",
              "       [ 110,  390,  670,  950, 1230]])"
            ]
          },
          "metadata": {},
          "execution_count": 73
        }
      ]
    },
    {
      "cell_type": "markdown",
      "metadata": {
        "id": "9EsiKbSCiXcT"
      },
      "source": [
        "# UFuncs Review\n",
        "\n",
        "- UFuncs provide efficient elementwise operations applied across one or more arrays.\n",
        "- Arithmetic Operators (`+`, `*`, `/`)\n",
        "- Comparisons (`==`, `>`, `!=`)\n",
        "- Boolean Operators (`&`, `|`, `^`)\n",
        "- Trigonometric Functions (`sin`, `cos`)\n",
        "- Transcendental Functions (`exp`, `log`)"
      ]
    },
    {
      "cell_type": "markdown",
      "metadata": {
        "id": "GGLCgF20iXcU"
      },
      "source": [
        "# Selections"
      ]
    },
    {
      "cell_type": "markdown",
      "metadata": {
        "id": "3SAH9am8iXcU"
      },
      "source": [
        "We often want to perform an operation on just a subset of our data."
      ]
    },
    {
      "cell_type": "code",
      "execution_count": null,
      "metadata": {
        "id": "AWmtLHYwiXcU",
        "colab": {
          "base_uri": "https://localhost:8080/"
        },
        "outputId": "48c9545d-10bb-4839-bf0c-045b1c76dcac"
      },
      "outputs": [
        {
          "output_type": "execute_result",
          "data": {
            "text/plain": [
              "array([0.        , 0.34185385, 0.64251645, 0.86575984, 0.98468459,\n",
              "       0.98496101, 0.8665558 , 0.64373604, 0.34335012, 0.00159265])"
            ]
          },
          "metadata": {},
          "execution_count": 76
        }
      ],
      "source": [
        "sines = np.sin(np.linspace(0, 3.14, 10))\n",
        "cosines = np.cos(np.linspace(0, 3.14, 10))\n",
        "sines"
      ]
    },
    {
      "cell_type": "markdown",
      "source": [
        "**My own example 29**"
      ],
      "metadata": {
        "id": "eiUHXF2Rbv8A"
      }
    },
    {
      "cell_type": "code",
      "source": [
        "seno = np.sin(np.linspace(0, 3.14, 10))\n",
        "coseno = np.cos(np.linspace(0, 3.14, 10))\n",
        "sines"
      ],
      "metadata": {
        "colab": {
          "base_uri": "https://localhost:8080/"
        },
        "id": "fCrs0OdwbyAs",
        "outputId": "413cdbcb-98dc-4d84-9e3c-d6668b1bec24"
      },
      "execution_count": null,
      "outputs": [
        {
          "output_type": "execute_result",
          "data": {
            "text/plain": [
              "array([0.        , 0.34185385, 0.64251645, 0.86575984, 0.98468459,\n",
              "       0.98496101, 0.8665558 , 0.64373604, 0.34335012, 0.00159265])"
            ]
          },
          "metadata": {},
          "execution_count": 77
        }
      ]
    },
    {
      "cell_type": "markdown",
      "source": [],
      "metadata": {
        "id": "gcyFlmsDbv2I"
      }
    },
    {
      "cell_type": "code",
      "execution_count": null,
      "metadata": {
        "id": "u8LHY0j9iXcU",
        "colab": {
          "base_uri": "https://localhost:8080/"
        },
        "outputId": "5e7dc0d1-f16b-4a28-b1d8-395dadd056b8"
      },
      "outputs": [
        {
          "output_type": "execute_result",
          "data": {
            "text/plain": [
              "0.0"
            ]
          },
          "metadata": {},
          "execution_count": 78
        }
      ],
      "source": [
        "# Slicing works with the same semantics as Python lists.\n",
        "sines[0]"
      ]
    },
    {
      "cell_type": "markdown",
      "source": [
        "**My own example 30**"
      ],
      "metadata": {
        "id": "OXyFH4nicB9f"
      }
    },
    {
      "cell_type": "code",
      "source": [
        "seno[5]"
      ],
      "metadata": {
        "colab": {
          "base_uri": "https://localhost:8080/"
        },
        "id": "S81sivtYcEIB",
        "outputId": "1fe6387f-f854-4268-e320-68b581f80528"
      },
      "execution_count": null,
      "outputs": [
        {
          "output_type": "execute_result",
          "data": {
            "text/plain": [
              "0.9849610127154954"
            ]
          },
          "metadata": {},
          "execution_count": 79
        }
      ]
    },
    {
      "cell_type": "code",
      "execution_count": null,
      "metadata": {
        "id": "hh6dTObciXcU",
        "colab": {
          "base_uri": "https://localhost:8080/"
        },
        "outputId": "49178abd-276e-4bee-a122-9e27ffc83827"
      },
      "outputs": [
        {
          "output_type": "execute_result",
          "data": {
            "text/plain": [
              "array([0.        , 0.34185385, 0.64251645])"
            ]
          },
          "metadata": {},
          "execution_count": 80
        }
      ],
      "source": [
        "sines[:3]  # First three elements  "
      ]
    },
    {
      "cell_type": "markdown",
      "source": [
        "**My own example 31**"
      ],
      "metadata": {
        "id": "mIDhgrJncJjp"
      }
    },
    {
      "cell_type": "code",
      "source": [
        "seno [:3]"
      ],
      "metadata": {
        "colab": {
          "base_uri": "https://localhost:8080/"
        },
        "id": "b94a2JjvcNJJ",
        "outputId": "73d25c40-7800-4a98-c654-022d1206bc81"
      },
      "execution_count": null,
      "outputs": [
        {
          "output_type": "execute_result",
          "data": {
            "text/plain": [
              "array([0.        , 0.34185385, 0.64251645])"
            ]
          },
          "metadata": {},
          "execution_count": 81
        }
      ]
    },
    {
      "cell_type": "code",
      "execution_count": null,
      "metadata": {
        "id": "rqB_uVABiXcU",
        "colab": {
          "base_uri": "https://localhost:8080/"
        },
        "outputId": "21e620d8-bdce-4ad8-8511-6f6aa67d4ae3"
      },
      "outputs": [
        {
          "output_type": "execute_result",
          "data": {
            "text/plain": [
              "array([0.98496101, 0.8665558 , 0.64373604, 0.34335012, 0.00159265])"
            ]
          },
          "metadata": {},
          "execution_count": 82
        }
      ],
      "source": [
        "sines[5:]  # Elements from 5 on."
      ]
    },
    {
      "cell_type": "markdown",
      "source": [
        "**My own example 32**"
      ],
      "metadata": {
        "id": "fQX2nJfMcRhX"
      }
    },
    {
      "cell_type": "code",
      "source": [
        "seno [5:]"
      ],
      "metadata": {
        "colab": {
          "base_uri": "https://localhost:8080/"
        },
        "id": "ZUIp1-OBcTcp",
        "outputId": "41485bc9-94fa-4fd7-81fb-d46dca07efe1"
      },
      "execution_count": null,
      "outputs": [
        {
          "output_type": "execute_result",
          "data": {
            "text/plain": [
              "array([0.98496101, 0.8665558 , 0.64373604, 0.34335012, 0.00159265])"
            ]
          },
          "metadata": {},
          "execution_count": 83
        }
      ]
    },
    {
      "cell_type": "code",
      "execution_count": null,
      "metadata": {
        "id": "j2KDBhZaiXcU",
        "colab": {
          "base_uri": "https://localhost:8080/"
        },
        "outputId": "8568e0b3-20e9-404c-cc72-c27cd4b9f69b"
      },
      "outputs": [
        {
          "output_type": "execute_result",
          "data": {
            "text/plain": [
              "array([0.        , 0.64251645, 0.98468459, 0.8665558 , 0.34335012])"
            ]
          },
          "metadata": {},
          "execution_count": 84
        }
      ],
      "source": [
        "sines[::2]  # Every other element."
      ]
    },
    {
      "cell_type": "markdown",
      "source": [
        "**My own example 33**"
      ],
      "metadata": {
        "id": "KXQE50m7cd18"
      }
    },
    {
      "cell_type": "code",
      "source": [
        "seno [::2]"
      ],
      "metadata": {
        "colab": {
          "base_uri": "https://localhost:8080/"
        },
        "id": "cTb0sAMXcgJw",
        "outputId": "639b24cc-3067-45ed-c918-94c8bd6dd758"
      },
      "execution_count": null,
      "outputs": [
        {
          "output_type": "execute_result",
          "data": {
            "text/plain": [
              "array([0.        , 0.64251645, 0.98468459, 0.8665558 , 0.34335012])"
            ]
          },
          "metadata": {},
          "execution_count": 85
        }
      ]
    },
    {
      "cell_type": "code",
      "execution_count": null,
      "metadata": {
        "id": "lR7JjjhjiXcV",
        "colab": {
          "base_uri": "https://localhost:8080/"
        },
        "outputId": "b945bd58-ccee-42ca-9496-93234c0c7924"
      },
      "outputs": [
        {
          "output_type": "stream",
          "name": "stdout",
          "text": [
            "sines:\n",
            " [0.         0.34185385 0.64251645 0.86575984 0.98468459 0.98496101\n",
            " 0.8665558  0.64373604 0.34335012 0.00159265]\n",
            "sines > 0.5:\n",
            " [False False  True  True  True  True  True  True False False]\n",
            "sines[sines > 0.5]:\n",
            " [0.64251645 0.86575984 0.98468459 0.98496101 0.8665558  0.64373604]\n"
          ]
        }
      ],
      "source": [
        "# More interesting: we can index with boolean arrays to filter by a predicate.\n",
        "print(\"sines:\\n\", sines)\n",
        "print(\"sines > 0.5:\\n\", sines > 0.5)\n",
        "print(\"sines[sines > 0.5]:\\n\", sines[sines > 0.5])"
      ]
    },
    {
      "cell_type": "markdown",
      "source": [
        "**My own example 34**"
      ],
      "metadata": {
        "id": "TLkauHSnclo0"
      }
    },
    {
      "cell_type": "code",
      "source": [
        "print(\"seno:\\n\", seno)\n",
        "print(\"seno > 0.5:\\n\", seno > 0.5)\n",
        "print(\"seno[seno > 0.5]:\\n\", sines[seno > 0.5])"
      ],
      "metadata": {
        "colab": {
          "base_uri": "https://localhost:8080/"
        },
        "id": "yL3See-KcnaE",
        "outputId": "976992fe-d570-4db4-d234-13a6c09b2bab"
      },
      "execution_count": null,
      "outputs": [
        {
          "output_type": "stream",
          "name": "stdout",
          "text": [
            "seno:\n",
            " [0.         0.34185385 0.64251645 0.86575984 0.98468459 0.98496101\n",
            " 0.8665558  0.64373604 0.34335012 0.00159265]\n",
            "seno > 0.5:\n",
            " [False False  True  True  True  True  True  True False False]\n",
            "seno[seno > 0.5]:\n",
            " [0.64251645 0.86575984 0.98468459 0.98496101 0.8665558  0.64373604]\n"
          ]
        }
      ]
    },
    {
      "cell_type": "code",
      "execution_count": null,
      "metadata": {
        "id": "gORuDL3RiXcV",
        "colab": {
          "base_uri": "https://localhost:8080/"
        },
        "outputId": "ed010ef4-f867-4911-e96d-016c65d5d0b2"
      },
      "outputs": [
        {
          "output_type": "stream",
          "name": "stdout",
          "text": [
            "[0.         0.34185385 0.64251645 0.86575984 0.98468459 0.98496101\n",
            " 0.8665558  0.64373604 0.34335012 0.00159265]\n"
          ]
        },
        {
          "output_type": "execute_result",
          "data": {
            "text/plain": [
              "array([0.        , 0.98468459, 0.64373604])"
            ]
          },
          "metadata": {},
          "execution_count": 88
        }
      ],
      "source": [
        "# We index with lists/arrays of integers to select values at those indices.\n",
        "print(sines)\n",
        "sines[[0, 4, 7]]"
      ]
    },
    {
      "cell_type": "markdown",
      "source": [
        "**My own example 35**"
      ],
      "metadata": {
        "id": "o_GpVuo-L80o"
      }
    },
    {
      "cell_type": "code",
      "source": [
        "print(seno)\n",
        "seno[[2, 4, 6]]"
      ],
      "metadata": {
        "colab": {
          "base_uri": "https://localhost:8080/"
        },
        "id": "PAkmtEVFL_ga",
        "outputId": "15033a73-b77d-48b7-b314-c1c52643006f"
      },
      "execution_count": null,
      "outputs": [
        {
          "output_type": "stream",
          "name": "stdout",
          "text": [
            "[0.         0.34185385 0.64251645 0.86575984 0.98468459 0.98496101\n",
            " 0.8665558  0.64373604 0.34335012 0.00159265]\n"
          ]
        },
        {
          "output_type": "execute_result",
          "data": {
            "text/plain": [
              "array([0.64251645, 0.98468459, 0.8665558 ])"
            ]
          },
          "metadata": {},
          "execution_count": 89
        }
      ]
    },
    {
      "cell_type": "code",
      "execution_count": null,
      "metadata": {
        "collapsed": true,
        "id": "Gu2vDHNgiXcV"
      },
      "outputs": [],
      "source": [
        "# Index arrays are often used for sorting one or more arrays.\n",
        "unsorted_data = np.array([1, 3, 2, 12, -1, 5, 2])"
      ]
    },
    {
      "cell_type": "code",
      "execution_count": null,
      "metadata": {
        "id": "uroIWxu1iXcV",
        "colab": {
          "base_uri": "https://localhost:8080/"
        },
        "outputId": "e322fedb-6b76-4782-8695-ec4fa1aeba8a"
      },
      "outputs": [
        {
          "output_type": "execute_result",
          "data": {
            "text/plain": [
              "array([4, 0, 2, 6, 1, 5, 3])"
            ]
          },
          "metadata": {},
          "execution_count": 91
        }
      ],
      "source": [
        "sort_indices = np.argsort(unsorted_data)\n",
        "sort_indices"
      ]
    },
    {
      "cell_type": "markdown",
      "source": [
        "**My own example 36**"
      ],
      "metadata": {
        "id": "5pfB3mvFNAsT"
      }
    },
    {
      "cell_type": "code",
      "source": [
        "random = np.array([5, 89, -4, 32, 15, 7, -24, -7])\n",
        "ordenado = np.argsort(random)\n",
        "ordenado"
      ],
      "metadata": {
        "colab": {
          "base_uri": "https://localhost:8080/"
        },
        "id": "4MJffEAFNC-N",
        "outputId": "2334851f-1e64-44e8-9374-ad59d3a5b8d4"
      },
      "execution_count": null,
      "outputs": [
        {
          "output_type": "execute_result",
          "data": {
            "text/plain": [
              "array([6, 7, 2, 0, 5, 4, 3, 1])"
            ]
          },
          "metadata": {},
          "execution_count": 92
        }
      ]
    },
    {
      "cell_type": "code",
      "execution_count": null,
      "metadata": {
        "id": "igwLM_b1iXcV",
        "colab": {
          "base_uri": "https://localhost:8080/"
        },
        "outputId": "14ce5fa0-3c03-4846-dbd5-6ee22313b0c8"
      },
      "outputs": [
        {
          "output_type": "execute_result",
          "data": {
            "text/plain": [
              "array([-1,  1,  2,  2,  3,  5, 12])"
            ]
          },
          "metadata": {},
          "execution_count": 93
        }
      ],
      "source": [
        "unsorted_data[sort_indices]"
      ]
    },
    {
      "cell_type": "markdown",
      "source": [
        "**My own example 37**"
      ],
      "metadata": {
        "id": "2E9nn6rcNkIN"
      }
    },
    {
      "cell_type": "code",
      "source": [
        "random [ordenado]"
      ],
      "metadata": {
        "colab": {
          "base_uri": "https://localhost:8080/"
        },
        "id": "4QqcExMcNmxG",
        "outputId": "f1493745-2281-44de-8882-c1bd94dcad8e"
      },
      "execution_count": null,
      "outputs": [
        {
          "output_type": "execute_result",
          "data": {
            "text/plain": [
              "array([-24,  -7,  -4,   5,   7,  15,  32,  89])"
            ]
          },
          "metadata": {},
          "execution_count": 94
        }
      ]
    },
    {
      "cell_type": "code",
      "execution_count": null,
      "metadata": {
        "collapsed": true,
        "id": "7IRVEVvdiXcV"
      },
      "outputs": [],
      "source": [
        "market_caps = np.array([12, 6, 10, 5, 6])  # Presumably in dollars?\n",
        "assets = np.array(['A', 'B', 'C', 'D', 'E'])"
      ]
    },
    {
      "cell_type": "code",
      "execution_count": null,
      "metadata": {
        "id": "jE8KVrn9iXcV",
        "colab": {
          "base_uri": "https://localhost:8080/"
        },
        "outputId": "76216aa1-2078-4b8b-95c0-f2ff61b64bb4"
      },
      "outputs": [
        {
          "output_type": "execute_result",
          "data": {
            "text/plain": [
              "array(['D', 'B', 'E', 'C', 'A'], dtype='<U1')"
            ]
          },
          "metadata": {},
          "execution_count": 96
        }
      ],
      "source": [
        "# Sort assets by market cap by using the permutation that would sort market caps on ``assets``.\n",
        "sort_by_mcap = np.argsort(market_caps)\n",
        "assets[sort_by_mcap]"
      ]
    },
    {
      "cell_type": "markdown",
      "source": [
        "**My own example 38**"
      ],
      "metadata": {
        "id": "Iv8Y8ZulNuYD"
      }
    },
    {
      "cell_type": "code",
      "source": [
        "numeros = np.array([1, 12, 46, 31, 9 ])  \n",
        "palabras = np.array(['Avion', 'Burro', 'Casa', 'Diente', 'Elefante'])\n",
        "ordenado = np.argsort(numeros)\n",
        "palabras [ordenado]"
      ],
      "metadata": {
        "id": "QTjhDbhxNxKF",
        "colab": {
          "base_uri": "https://localhost:8080/"
        },
        "outputId": "6bbce820-a60e-4428-b694-204ffc001d11"
      },
      "execution_count": null,
      "outputs": [
        {
          "output_type": "execute_result",
          "data": {
            "text/plain": [
              "array(['Avion', 'Elefante', 'Burro', 'Diente', 'Casa'], dtype='<U8')"
            ]
          },
          "metadata": {},
          "execution_count": 97
        }
      ]
    },
    {
      "cell_type": "code",
      "execution_count": null,
      "metadata": {
        "scrolled": true,
        "id": "jaGW-7fTiXcW",
        "colab": {
          "base_uri": "https://localhost:8080/"
        },
        "outputId": "4ebcb483-6cae-4369-e38d-cbe4c745d441"
      },
      "outputs": [
        {
          "output_type": "stream",
          "name": "stdout",
          "text": [
            "Dates:\n",
            " array(['2017-01-06', '2017-01-07', '2017-01-08'], dtype='datetime64[D]')\n",
            "Values:\n",
            " array([10, 15, 20])\n",
            "Calendar:\n",
            " array(['2017-01-03', '2017-01-04', '2017-01-05', '2017-01-06',\n",
            "       '2017-01-09', '2017-01-10', '2017-01-11', '2017-01-12',\n",
            "       '2017-01-13', '2017-01-17', '2017-01-18', '2017-01-19',\n",
            "       '2017-01-20', '2017-01-23', '2017-01-24', '2017-01-25',\n",
            "       '2017-01-26', '2017-01-27', '2017-01-30', '2017-01-31',\n",
            "       '2017-02-01'], dtype='datetime64[D]')\n"
          ]
        }
      ],
      "source": [
        "# Indexers are also useful for aligning data.\n",
        "print(\"Dates:\\n\", repr(event_dates))\n",
        "print(\"Values:\\n\", repr(event_values))\n",
        "print(\"Calendar:\\n\", repr(calendar))"
      ]
    },
    {
      "cell_type": "code",
      "execution_count": null,
      "metadata": {
        "id": "Uo28AVcTiXcW",
        "colab": {
          "base_uri": "https://localhost:8080/"
        },
        "outputId": "b763550e-ebe0-4a62-ca9d-23f702f2529f"
      },
      "outputs": [
        {
          "output_type": "stream",
          "name": "stdout",
          "text": [
            "Raw Dates: ['2017-01-06' '2017-01-07' '2017-01-08']\n",
            "Indices: [3 4 4]\n",
            "Forward-Filled Dates: ['2017-01-06' '2017-01-09' '2017-01-09']\n"
          ]
        }
      ],
      "source": [
        "print(\"Raw Dates:\", event_dates)\n",
        "print(\"Indices:\", calendar.searchsorted(event_dates))\n",
        "print(\"Forward-Filled Dates:\", calendar[calendar.searchsorted(event_dates)])"
      ]
    },
    {
      "cell_type": "markdown",
      "metadata": {
        "id": "oDEVEEOriXcW"
      },
      "source": [
        "On multi-dimensional arrays, we can slice along each axis independently."
      ]
    },
    {
      "cell_type": "code",
      "execution_count": null,
      "metadata": {
        "id": "prPSgZhniXcW",
        "colab": {
          "base_uri": "https://localhost:8080/"
        },
        "outputId": "0b25675c-f11b-4057-bdef-62c0497f878c"
      },
      "outputs": [
        {
          "output_type": "execute_result",
          "data": {
            "text/plain": [
              "array([[ 0,  1,  2,  3,  4],\n",
              "       [ 5,  6,  7,  8,  9],\n",
              "       [10, 11, 12, 13, 14],\n",
              "       [15, 16, 17, 18, 19],\n",
              "       [20, 21, 22, 23, 24]])"
            ]
          },
          "metadata": {},
          "execution_count": 100
        }
      ],
      "source": [
        "data = np.arange(25).reshape(5, 5)\n",
        "data"
      ]
    },
    {
      "cell_type": "markdown",
      "source": [
        "**My own example 39**"
      ],
      "metadata": {
        "id": "8maUG_ktPOf8"
      }
    },
    {
      "cell_type": "code",
      "source": [
        "datos =  np.arange (30).reshape (5,6)\n",
        "datos"
      ],
      "metadata": {
        "colab": {
          "base_uri": "https://localhost:8080/"
        },
        "id": "VZ7lMGbkPQ9S",
        "outputId": "9d5bba21-7576-4c38-b6f5-7d15c965f793"
      },
      "execution_count": null,
      "outputs": [
        {
          "output_type": "execute_result",
          "data": {
            "text/plain": [
              "array([[ 0,  1,  2,  3,  4,  5],\n",
              "       [ 6,  7,  8,  9, 10, 11],\n",
              "       [12, 13, 14, 15, 16, 17],\n",
              "       [18, 19, 20, 21, 22, 23],\n",
              "       [24, 25, 26, 27, 28, 29]])"
            ]
          },
          "metadata": {},
          "execution_count": 101
        }
      ]
    },
    {
      "cell_type": "code",
      "execution_count": null,
      "metadata": {
        "id": "KAulAQ2yiXcW",
        "colab": {
          "base_uri": "https://localhost:8080/"
        },
        "outputId": "9f6687ab-587b-4087-9f51-5662f8ca3865"
      },
      "outputs": [
        {
          "output_type": "execute_result",
          "data": {
            "text/plain": [
              "array([[0, 1],\n",
              "       [5, 6]])"
            ]
          },
          "metadata": {},
          "execution_count": 102
        }
      ],
      "source": [
        "data[:2, :2]  # First two rows and first two columns."
      ]
    },
    {
      "cell_type": "markdown",
      "source": [
        "**My own example 40**"
      ],
      "metadata": {
        "id": "HWuazZNsPs5I"
      }
    },
    {
      "cell_type": "code",
      "source": [
        "datos[:3, :4]"
      ],
      "metadata": {
        "colab": {
          "base_uri": "https://localhost:8080/"
        },
        "id": "P-xa-z_tPwm1",
        "outputId": "3778d9fb-7044-40fe-e051-ca468ec1bccc"
      },
      "execution_count": null,
      "outputs": [
        {
          "output_type": "execute_result",
          "data": {
            "text/plain": [
              "array([[ 0,  1,  2,  3],\n",
              "       [ 6,  7,  8,  9],\n",
              "       [12, 13, 14, 15]])"
            ]
          },
          "metadata": {},
          "execution_count": 103
        }
      ]
    },
    {
      "cell_type": "code",
      "execution_count": null,
      "metadata": {
        "id": "f9_S0RcdiXcW",
        "colab": {
          "base_uri": "https://localhost:8080/"
        },
        "outputId": "01211195-ffb6-4413-a573-ddfbac3b5791"
      },
      "outputs": [
        {
          "output_type": "execute_result",
          "data": {
            "text/plain": [
              "array([[0, 4],\n",
              "       [5, 9]])"
            ]
          },
          "metadata": {},
          "execution_count": 104
        }
      ],
      "source": [
        "data[:2, [0, -1]]  # First two rows, first and last columns."
      ]
    },
    {
      "cell_type": "markdown",
      "source": [
        "**My own example 41**"
      ],
      "metadata": {
        "id": "iim_jadTP4bT"
      }
    },
    {
      "cell_type": "code",
      "source": [
        "datos[:2, [0, -1]]"
      ],
      "metadata": {
        "colab": {
          "base_uri": "https://localhost:8080/"
        },
        "id": "Lv0fH-UQP6dM",
        "outputId": "2cea0f92-24ba-4b58-b38c-ac58395f2130"
      },
      "execution_count": null,
      "outputs": [
        {
          "output_type": "execute_result",
          "data": {
            "text/plain": [
              "array([[ 0,  5],\n",
              "       [ 6, 11]])"
            ]
          },
          "metadata": {},
          "execution_count": 105
        }
      ]
    },
    {
      "cell_type": "code",
      "execution_count": null,
      "metadata": {
        "id": "rre5hGs9iXcW",
        "colab": {
          "base_uri": "https://localhost:8080/"
        },
        "outputId": "678054db-7c91-4a84-f62d-7503fe281ce5"
      },
      "outputs": [
        {
          "output_type": "execute_result",
          "data": {
            "text/plain": [
              "array([[ 0,  1,  2,  3,  4],\n",
              "       [10, 11, 12, 13, 14],\n",
              "       [20, 21, 22, 23, 24]])"
            ]
          },
          "metadata": {},
          "execution_count": 106
        }
      ],
      "source": [
        "data[(data[:, 0] % 2) == 0]  # Rows where the first column is divisible by two."
      ]
    },
    {
      "cell_type": "markdown",
      "source": [
        "**My own example 42**"
      ],
      "metadata": {
        "id": "gOddThzFP_4c"
      }
    },
    {
      "cell_type": "code",
      "source": [
        "datos[(datos[:, 0] % 2) == 0]"
      ],
      "metadata": {
        "colab": {
          "base_uri": "https://localhost:8080/"
        },
        "id": "fDCEkpLdQB4D",
        "outputId": "a9678e98-437d-4d9e-821a-cc38debf66aa"
      },
      "execution_count": null,
      "outputs": [
        {
          "output_type": "execute_result",
          "data": {
            "text/plain": [
              "array([[ 0,  1,  2,  3,  4,  5],\n",
              "       [ 6,  7,  8,  9, 10, 11],\n",
              "       [12, 13, 14, 15, 16, 17],\n",
              "       [18, 19, 20, 21, 22, 23],\n",
              "       [24, 25, 26, 27, 28, 29]])"
            ]
          },
          "metadata": {},
          "execution_count": 107
        }
      ]
    },
    {
      "cell_type": "markdown",
      "metadata": {
        "id": "zl1zYEQgiXcX"
      },
      "source": [
        "# Selections Review\n",
        "\n",
        "- Indexing with an integer removes a dimension.\n",
        "- Slicing operations work on Numpy arrays the same way they do on lists.\n",
        "- Indexing with a boolean array filters to True locations.\n",
        "- Indexing with an integer array selects indices along an axis.\n",
        "- Multidimensional arrays can apply selections independently along different axes."
      ]
    },
    {
      "cell_type": "markdown",
      "metadata": {
        "id": "0tDspA_KiXcX"
      },
      "source": [
        "## Reductions\n",
        "\n",
        "Functions that reduce an array to a scalar."
      ]
    },
    {
      "cell_type": "markdown",
      "metadata": {
        "id": "1s42E1qCiXcX"
      },
      "source": [
        "$Var(X) = \\frac{1}{N}\\sqrt{\\sum_{i=1}^N (x_i - \\bar{x})^2}$"
      ]
    },
    {
      "cell_type": "code",
      "execution_count": null,
      "metadata": {
        "collapsed": true,
        "id": "pkjccK94iXcX"
      },
      "outputs": [],
      "source": [
        "def variance(x):\n",
        "    return ((x - x.mean()) ** 2).sum() / len(x)"
      ]
    },
    {
      "cell_type": "code",
      "execution_count": null,
      "metadata": {
        "id": "jqiZV_FMiXcX",
        "colab": {
          "base_uri": "https://localhost:8080/"
        },
        "outputId": "6efbc92b-b077-4659-ff4a-bf8b34e0ea8e"
      },
      "outputs": [
        {
          "output_type": "execute_result",
          "data": {
            "text/plain": [
              "0.9725838508928623"
            ]
          },
          "metadata": {},
          "execution_count": 112
        }
      ],
      "source": [
        "variance(np.random.standard_normal(1000))"
      ]
    },
    {
      "cell_type": "markdown",
      "source": [
        "**My own example 43**"
      ],
      "metadata": {
        "id": "fbtKjojpQNKE"
      }
    },
    {
      "cell_type": "code",
      "source": [
        "variance (np.random.standard_normal(13480))"
      ],
      "metadata": {
        "colab": {
          "base_uri": "https://localhost:8080/"
        },
        "id": "nxIYx5nhQQEc",
        "outputId": "c4edf191-355f-49d3-d8e8-dcb6ceb70646"
      },
      "execution_count": null,
      "outputs": [
        {
          "output_type": "execute_result",
          "data": {
            "text/plain": [
              "1.014050856634504"
            ]
          },
          "metadata": {},
          "execution_count": 113
        }
      ]
    },
    {
      "cell_type": "markdown",
      "metadata": {
        "id": "WHVBON1qiXcX"
      },
      "source": [
        "- `sum()` and `mean()` are both **reductions**."
      ]
    },
    {
      "cell_type": "markdown",
      "metadata": {
        "id": "w7gh4_vmiXcX"
      },
      "source": [
        "- In the simplest case, we use these to reduce an entire array into a single value..."
      ]
    },
    {
      "cell_type": "code",
      "execution_count": null,
      "metadata": {
        "id": "Hxr-Py7ciXcY",
        "colab": {
          "base_uri": "https://localhost:8080/"
        },
        "outputId": "e81da14b-9c98-46d9-87ec-7c08549938c3"
      },
      "outputs": [
        {
          "output_type": "execute_result",
          "data": {
            "text/plain": [
              "14.5"
            ]
          },
          "metadata": {},
          "execution_count": 114
        }
      ],
      "source": [
        "data = np.arange(30)\n",
        "data.mean()"
      ]
    },
    {
      "cell_type": "markdown",
      "source": [
        "**My own example 44**"
      ],
      "metadata": {
        "id": "vINI2aTvQuFj"
      }
    },
    {
      "cell_type": "code",
      "source": [
        "matriz = np.arange(60)\n",
        "matriz.mean()"
      ],
      "metadata": {
        "colab": {
          "base_uri": "https://localhost:8080/"
        },
        "id": "zntGXUKiQwFE",
        "outputId": "78fc90a6-243f-4261-9709-5a5ae9096a0d"
      },
      "execution_count": null,
      "outputs": [
        {
          "output_type": "execute_result",
          "data": {
            "text/plain": [
              "29.5"
            ]
          },
          "metadata": {},
          "execution_count": 115
        }
      ]
    },
    {
      "cell_type": "markdown",
      "metadata": {
        "id": "M1mqf-RfiXcY"
      },
      "source": [
        "- ...but we can do more interesting things with multi-dimensional arrays."
      ]
    },
    {
      "cell_type": "code",
      "execution_count": null,
      "metadata": {
        "id": "okW92XNriXcY",
        "colab": {
          "base_uri": "https://localhost:8080/"
        },
        "outputId": "7e45817b-d8b4-47b1-dd70-18122d3ebbca"
      },
      "outputs": [
        {
          "output_type": "execute_result",
          "data": {
            "text/plain": [
              "array([[ 0,  1,  2,  3,  4,  5,  6,  7,  8,  9],\n",
              "       [10, 11, 12, 13, 14, 15, 16, 17, 18, 19],\n",
              "       [20, 21, 22, 23, 24, 25, 26, 27, 28, 29]])"
            ]
          },
          "metadata": {},
          "execution_count": 116
        }
      ],
      "source": [
        "data = np.arange(30).reshape(3, 10)\n",
        "data"
      ]
    },
    {
      "cell_type": "markdown",
      "source": [
        "**My own example 45**"
      ],
      "metadata": {
        "id": "82whFBSMQ3L7"
      }
    },
    {
      "cell_type": "code",
      "source": [
        "matriz = np.arange(35).reshape(7, 5)\n",
        "matriz"
      ],
      "metadata": {
        "colab": {
          "base_uri": "https://localhost:8080/"
        },
        "id": "otAesoT5Q6Uz",
        "outputId": "4e88c311-8af7-4e5e-9ee8-6038ca9fd5f1"
      },
      "execution_count": null,
      "outputs": [
        {
          "output_type": "execute_result",
          "data": {
            "text/plain": [
              "array([[ 0,  1,  2,  3,  4],\n",
              "       [ 5,  6,  7,  8,  9],\n",
              "       [10, 11, 12, 13, 14],\n",
              "       [15, 16, 17, 18, 19],\n",
              "       [20, 21, 22, 23, 24],\n",
              "       [25, 26, 27, 28, 29],\n",
              "       [30, 31, 32, 33, 34]])"
            ]
          },
          "metadata": {},
          "execution_count": 117
        }
      ]
    },
    {
      "cell_type": "code",
      "execution_count": null,
      "metadata": {
        "id": "_DwCYNHQiXcY",
        "colab": {
          "base_uri": "https://localhost:8080/"
        },
        "outputId": "aece1489-5411-4056-e1a6-3bf2cbb57290"
      },
      "outputs": [
        {
          "output_type": "execute_result",
          "data": {
            "text/plain": [
              "14.5"
            ]
          },
          "metadata": {},
          "execution_count": 118
        }
      ],
      "source": [
        "data.mean()"
      ]
    },
    {
      "cell_type": "markdown",
      "source": [
        "**My own example 46**"
      ],
      "metadata": {
        "id": "NmCP8n-tRAyd"
      }
    },
    {
      "cell_type": "code",
      "source": [
        "matriz.mean()"
      ],
      "metadata": {
        "colab": {
          "base_uri": "https://localhost:8080/"
        },
        "id": "H7GQzle3RC4k",
        "outputId": "bfc392f2-1d1e-4bf9-e4d1-606d5bc4c5af"
      },
      "execution_count": null,
      "outputs": [
        {
          "output_type": "execute_result",
          "data": {
            "text/plain": [
              "17.0"
            ]
          },
          "metadata": {},
          "execution_count": 119
        }
      ]
    },
    {
      "cell_type": "code",
      "execution_count": null,
      "metadata": {
        "id": "Z7S6mpm3iXcY",
        "colab": {
          "base_uri": "https://localhost:8080/"
        },
        "outputId": "055b383d-eaa7-4610-a3bd-11d8f014ddaa"
      },
      "outputs": [
        {
          "output_type": "execute_result",
          "data": {
            "text/plain": [
              "array([10., 11., 12., 13., 14., 15., 16., 17., 18., 19.])"
            ]
          },
          "metadata": {},
          "execution_count": 120
        }
      ],
      "source": [
        "data.mean(axis=0)"
      ]
    },
    {
      "cell_type": "markdown",
      "source": [
        "**My own example 47**"
      ],
      "metadata": {
        "id": "nH56vWGsRKYk"
      }
    },
    {
      "cell_type": "code",
      "source": [
        "matriz.mean (axis = 0)"
      ],
      "metadata": {
        "colab": {
          "base_uri": "https://localhost:8080/"
        },
        "id": "mD40zImFRNAs",
        "outputId": "875085c0-6bea-463b-c9b0-424a882f8d8f"
      },
      "execution_count": null,
      "outputs": [
        {
          "output_type": "execute_result",
          "data": {
            "text/plain": [
              "array([15., 16., 17., 18., 19.])"
            ]
          },
          "metadata": {},
          "execution_count": 121
        }
      ]
    },
    {
      "cell_type": "code",
      "execution_count": null,
      "metadata": {
        "id": "g-DOKtM4iXcY",
        "colab": {
          "base_uri": "https://localhost:8080/"
        },
        "outputId": "184972e7-89a7-41bd-9b8d-831f6505cd2a"
      },
      "outputs": [
        {
          "output_type": "execute_result",
          "data": {
            "text/plain": [
              "array([ 4.5, 14.5, 24.5])"
            ]
          },
          "metadata": {},
          "execution_count": 122
        }
      ],
      "source": [
        "data.mean(axis=1)"
      ]
    },
    {
      "cell_type": "markdown",
      "source": [
        "**My own example 48**"
      ],
      "metadata": {
        "id": "5QvfYOwgOU09"
      }
    },
    {
      "cell_type": "code",
      "source": [
        "matriz.mean(axis = 1)"
      ],
      "metadata": {
        "id": "FO3QAQ69OVBn",
        "colab": {
          "base_uri": "https://localhost:8080/"
        },
        "outputId": "91f2c5c3-ece7-4c18-9193-7f2b6af726ec"
      },
      "execution_count": null,
      "outputs": [
        {
          "output_type": "execute_result",
          "data": {
            "text/plain": [
              "array([ 2.,  7., 12., 17., 22., 27., 32.])"
            ]
          },
          "metadata": {},
          "execution_count": 123
        }
      ]
    },
    {
      "cell_type": "markdown",
      "metadata": {
        "id": "zsIEVqkgiXcY"
      },
      "source": [
        "## Reductions Review\n",
        "\n",
        "- Reductions allow us to perform efficient aggregations over arrays.\n",
        "- We can do aggregations over a single axis to collapse a single dimension.\n",
        "- Many built-in reductions (`mean`, `sum`, `min`, `max`, `median`, ...)."
      ]
    },
    {
      "cell_type": "markdown",
      "metadata": {
        "id": "hvqRiy2qiXcZ"
      },
      "source": [
        "# Broadcasting"
      ]
    },
    {
      "cell_type": "code",
      "execution_count": null,
      "metadata": {
        "id": "OyIDakdiiXcZ",
        "colab": {
          "base_uri": "https://localhost:8080/"
        },
        "outputId": "89cd868c-b0e9-44f2-a3f5-2457acf68c08"
      },
      "outputs": [
        {
          "output_type": "stream",
          "name": "stdout",
          "text": [
            "Row:\n",
            "[1 2 3 4]\n",
            "Column:\n",
            "[[1]\n",
            " [2]\n",
            " [3]]\n"
          ]
        }
      ],
      "source": [
        "row = np.array([1, 2, 3, 4])\n",
        "column = np.array([[1], [2], [3]])\n",
        "print(\"Row:\\n\", row, sep='')\n",
        "print(\"Column:\\n\", column, sep='')"
      ]
    },
    {
      "cell_type": "markdown",
      "source": [
        "**My own example 49**"
      ],
      "metadata": {
        "id": "qYaejAiQTp2-"
      }
    },
    {
      "cell_type": "code",
      "source": [
        "fila = np.array(['Hola', 'amigo', 'como', 'estas'])\n",
        "columna = np.array([['yo'], ['muy'], ['bien']])\n",
        "print(\"Filas:\\n\", fila, sep='')\n",
        "print(\"Columnas:\\n\", columna, sep='')"
      ],
      "metadata": {
        "colab": {
          "base_uri": "https://localhost:8080/"
        },
        "id": "w88QXt4jTqCk",
        "outputId": "6b1d0fbf-ed32-400b-c3b3-491b4880ae3c"
      },
      "execution_count": null,
      "outputs": [
        {
          "output_type": "stream",
          "name": "stdout",
          "text": [
            "Filas:\n",
            "['Hola' 'amigo' 'como' 'estas']\n",
            "Columnas:\n",
            "[['yo']\n",
            " ['muy']\n",
            " ['bien']]\n"
          ]
        }
      ]
    },
    {
      "cell_type": "code",
      "execution_count": null,
      "metadata": {
        "id": "Dej4wsX-iXcZ",
        "colab": {
          "base_uri": "https://localhost:8080/"
        },
        "outputId": "f12a918f-43b4-4c51-f0a8-1c2f1822f10d"
      },
      "outputs": [
        {
          "output_type": "execute_result",
          "data": {
            "text/plain": [
              "array([[2, 3, 4, 5],\n",
              "       [3, 4, 5, 6],\n",
              "       [4, 5, 6, 7]])"
            ]
          },
          "metadata": {},
          "execution_count": 125
        }
      ],
      "source": [
        "row + column"
      ]
    },
    {
      "cell_type": "markdown",
      "source": [
        "**My own example 50**"
      ],
      "metadata": {
        "id": "wZEl6_BPT_B1"
      }
    },
    {
      "cell_type": "code",
      "source": [
        "fila_example = np.array([13, 15, 14, 19])\n",
        "columna_example = np.array([[45], [78], [46]])\n",
        "fila_example + columna_example"
      ],
      "metadata": {
        "colab": {
          "base_uri": "https://localhost:8080/"
        },
        "id": "eF4-WzzIT_QN",
        "outputId": "f8f7cd73-c2f5-4acc-b003-772425a1d83b"
      },
      "execution_count": null,
      "outputs": [
        {
          "output_type": "execute_result",
          "data": {
            "text/plain": [
              "array([[58, 60, 59, 64],\n",
              "       [91, 93, 92, 97],\n",
              "       [59, 61, 60, 65]])"
            ]
          },
          "metadata": {},
          "execution_count": 129
        }
      ]
    },
    {
      "cell_type": "markdown",
      "metadata": {
        "id": "tMdSsqXfiXcZ"
      },
      "source": [
        "<center><img src=\"https://raw.githubusercontent.com/ssanderson/pydata-toolbox/master/notebooks/images/broadcasting.png\" alt=\"Drawing\" style=\"width: 60%;\"/></center>\n",
        "\n",
        "<h5>Source: http://www.scipy-lectures.org/_images/numpy_broadcasting.png</h5>"
      ]
    },
    {
      "cell_type": "code",
      "execution_count": null,
      "metadata": {
        "id": "JVLNvazIiXcZ",
        "colab": {
          "base_uri": "https://localhost:8080/"
        },
        "outputId": "01001633-47d0-4e75-92d4-b13fa62342b2"
      },
      "outputs": [
        {
          "output_type": "stream",
          "name": "stdout",
          "text": [
            "Data:\n",
            "[[ 0  1  2  3  4  5  6  7  8  9]\n",
            " [10 11 12 13 14 15 16 17 18 19]\n",
            " [20 21 22 23 24 25 26 27 28 29]]\n",
            "Mean:\n",
            "[10. 11. 12. 13. 14. 15. 16. 17. 18. 19.]\n",
            "Data - Mean:\n",
            "[[-10. -10. -10. -10. -10. -10. -10. -10. -10. -10.]\n",
            " [  0.   0.   0.   0.   0.   0.   0.   0.   0.   0.]\n",
            " [ 10.  10.  10.  10.  10.  10.  10.  10.  10.  10.]]\n"
          ]
        }
      ],
      "source": [
        "# Broadcasting is particularly useful in conjunction with reductions.\n",
        "print(\"Data:\\n\", data, sep='')\n",
        "print(\"Mean:\\n\", data.mean(axis=0), sep='')\n",
        "print(\"Data - Mean:\\n\", data - data.mean(axis=0), sep='')"
      ]
    },
    {
      "cell_type": "markdown",
      "source": [
        "**My own example 51**"
      ],
      "metadata": {
        "id": "yPfgMckGUxtP"
      }
    },
    {
      "cell_type": "code",
      "source": [
        "print(\"Data:\\n\", matriz, sep='')\n",
        "print(\"Mean:\\n\", matriz.mean(axis=0), sep='')\n",
        "print(\"Data - Mean:\\n\", matriz - matriz.mean(axis=0), sep='')"
      ],
      "metadata": {
        "colab": {
          "base_uri": "https://localhost:8080/"
        },
        "id": "Ry4wGeeLUx-M",
        "outputId": "46835d3d-fc95-4ec1-add2-2463614b5733"
      },
      "execution_count": null,
      "outputs": [
        {
          "output_type": "stream",
          "name": "stdout",
          "text": [
            "Data:\n",
            "[[ 0  1  2  3  4]\n",
            " [ 5  6  7  8  9]\n",
            " [10 11 12 13 14]\n",
            " [15 16 17 18 19]\n",
            " [20 21 22 23 24]\n",
            " [25 26 27 28 29]\n",
            " [30 31 32 33 34]]\n",
            "Mean:\n",
            "[15. 16. 17. 18. 19.]\n",
            "Data - Mean:\n",
            "[[-15. -15. -15. -15. -15.]\n",
            " [-10. -10. -10. -10. -10.]\n",
            " [ -5.  -5.  -5.  -5.  -5.]\n",
            " [  0.   0.   0.   0.   0.]\n",
            " [  5.   5.   5.   5.   5.]\n",
            " [ 10.  10.  10.  10.  10.]\n",
            " [ 15.  15.  15.  15.  15.]]\n"
          ]
        }
      ]
    },
    {
      "cell_type": "markdown",
      "metadata": {
        "id": "JHmGF_mGiXcZ"
      },
      "source": [
        "# Broadcasting Review\n",
        "\n",
        "- Numpy operations can work on arrays of different dimensions as long as the arrays' shapes are still \"compatible\".\n",
        "- Broadcasting works by \"tiling\" the smaller array along the missing dimension.\n",
        "- The result of a broadcasted operation is always at least as large in each dimension as the largest array in that dimension."
      ]
    },
    {
      "cell_type": "markdown",
      "metadata": {
        "id": "Tmy_pKVniXca"
      },
      "source": [
        "# Numpy Review"
      ]
    },
    {
      "cell_type": "markdown",
      "metadata": {
        "id": "TiKskIDqiXca"
      },
      "source": [
        "- Numerical algorithms are slow in pure Python because the overhead dynamic dispatch dominates our runtime."
      ]
    },
    {
      "cell_type": "markdown",
      "metadata": {
        "id": "WRex_YahiXca"
      },
      "source": [
        "- Numpy solves this problem by:\n",
        "  1. Imposing additional restrictions on the contents of arrays.\n",
        "  2. Moving the inner loops of our algorithms into compiled C code."
      ]
    },
    {
      "cell_type": "markdown",
      "metadata": {
        "id": "HHcs1cowiXca"
      },
      "source": [
        "- Using Numpy effectively often requires reworking an algorithms to use vectorized operations instead of for-loops, but the resulting operations are usually simpler, clearer, and faster than the pure Python equivalent."
      ]
    },
    {
      "cell_type": "markdown",
      "metadata": {
        "id": "GoPdOSfSiXca"
      },
      "source": [
        "<center><img src=\"https://raw.githubusercontent.com/ssanderson/pydata-toolbox/master/notebooks/images/unicorn.jpg\" alt=\"Drawing\" style=\"width: 75%;\"/></center>"
      ]
    },
    {
      "cell_type": "markdown",
      "metadata": {
        "id": "GqyHpT0DiXca"
      },
      "source": [
        "Numpy is great for many things, but..."
      ]
    },
    {
      "cell_type": "markdown",
      "metadata": {
        "id": "t2pSdZyeiXca"
      },
      "source": [
        "- Sometimes our data is equipped with a natural set of **labels**:\n",
        "  - Dates/Times\n",
        "  - Stock Tickers\n",
        "  - Field Names (e.g. Open/High/Low/Close)"
      ]
    },
    {
      "cell_type": "markdown",
      "metadata": {
        "id": "eQkbld3YiXca"
      },
      "source": [
        "- Sometimes we have **more than one type of data** that we want to keep grouped together.\n",
        "  - Tables with a mix of real-valued and categorical data."
      ]
    },
    {
      "cell_type": "markdown",
      "metadata": {
        "id": "FUUCEShmiXcb"
      },
      "source": [
        "- Sometimes we have **missing** data, which we need to ignore, fill, or otherwise work around."
      ]
    },
    {
      "cell_type": "markdown",
      "metadata": {
        "id": "7BErgdXjiXcb"
      },
      "source": [
        "<center><img src=\"https://raw.githubusercontent.com/ssanderson/pydata-toolbox/master/notebooks/images/panda-wrangling.gif\" alt=\"Drawing\" style=\"width: 75%;\"/></center>"
      ]
    },
    {
      "cell_type": "markdown",
      "metadata": {
        "id": "B-LuFQ2BiXcb"
      },
      "source": [
        "<center><img src=\"https://raw.githubusercontent.com/ssanderson/pydata-toolbox/master/notebooks/images/pandas_logo.png\" alt=\"Drawing\" style=\"width: 75%;\"/></center>\n"
      ]
    },
    {
      "cell_type": "markdown",
      "metadata": {
        "id": "B8Hv2pY4iXcb"
      },
      "source": [
        "Pandas extends Numpy with more complex data structures:\n",
        "\n",
        "- `Series`: 1-dimensional, homogenously-typed, labelled array.\n",
        "- `DataFrame`: 2-dimensional, semi-homogenous, labelled table."
      ]
    },
    {
      "cell_type": "code",
      "source": [],
      "metadata": {
        "id": "NIwbyMNyIv0U"
      },
      "execution_count": null,
      "outputs": []
    },
    {
      "cell_type": "markdown",
      "metadata": {
        "id": "xYDFME14iXcb"
      },
      "source": [
        "Pandas also provides many utilities for: \n",
        "- Input/Output\n",
        "- Data Cleaning\n",
        "- Rolling Algorithms\n",
        "- Plotting"
      ]
    },
    {
      "cell_type": "markdown",
      "metadata": {
        "id": "uOvK2ZfeiXcb"
      },
      "source": [
        "# Selection in Pandas"
      ]
    },
    {
      "cell_type": "code",
      "execution_count": null,
      "metadata": {
        "id": "G6ploxoOiXcb",
        "colab": {
          "base_uri": "https://localhost:8080/"
        },
        "outputId": "2dbb6a7a-e091-4005-ab88-2e61ee271e03"
      },
      "outputs": [
        {
          "output_type": "execute_result",
          "data": {
            "text/plain": [
              "a    1\n",
              "b    2\n",
              "c    3\n",
              "d    4\n",
              "e    5\n",
              "dtype: int64"
            ]
          },
          "metadata": {},
          "execution_count": 133
        }
      ],
      "source": [
        "s = pd.Series(index=['a', 'b', 'c', 'd', 'e'], data=[1, 2, 3, 4, 5])\n",
        "s"
      ]
    },
    {
      "cell_type": "markdown",
      "source": [
        "**My own example 52**"
      ],
      "metadata": {
        "id": "_cnI2n_iY1Zx"
      }
    },
    {
      "cell_type": "code",
      "source": [
        "owns = pd.Series(index=['A', 'B', 'C', 'D', 'E'], data=[6, 7, 8, 9, 0])\n",
        "owns"
      ],
      "metadata": {
        "colab": {
          "base_uri": "https://localhost:8080/"
        },
        "id": "VPvKzHGHY1rf",
        "outputId": "f8ae3b4b-0398-4a27-cb5f-27152b1207b7"
      },
      "execution_count": null,
      "outputs": [
        {
          "output_type": "execute_result",
          "data": {
            "text/plain": [
              "A    6\n",
              "B    7\n",
              "C    8\n",
              "D    9\n",
              "E    0\n",
              "dtype: int64"
            ]
          },
          "metadata": {},
          "execution_count": 137
        }
      ]
    },
    {
      "cell_type": "code",
      "execution_count": null,
      "metadata": {
        "id": "PU-7iKpqiXcc",
        "colab": {
          "base_uri": "https://localhost:8080/"
        },
        "outputId": "6cc05277-cabe-4257-93b8-9eb3837f5519"
      },
      "outputs": [
        {
          "output_type": "stream",
          "name": "stdout",
          "text": [
            "The index is: Index(['a', 'b', 'c', 'd', 'e'], dtype='object')\n",
            "The values are: [1 2 3 4 5]\n"
          ]
        }
      ],
      "source": [
        "# There are two pieces to a Series: the index and the values.\n",
        "print(\"The index is:\", s.index)\n",
        "print(\"The values are:\", s.values)"
      ]
    },
    {
      "cell_type": "markdown",
      "source": [
        "**My own example 53**\n"
      ],
      "metadata": {
        "id": "EjzwsyoRYhGo"
      }
    },
    {
      "cell_type": "code",
      "source": [
        "print(\"La letra es:\", owns.index)\n",
        "print(\"Los numeros son:\", owns.values)"
      ],
      "metadata": {
        "colab": {
          "base_uri": "https://localhost:8080/"
        },
        "id": "lhXeXa9SYhUa",
        "outputId": "d53d3fae-99f3-4e4d-fd8b-dac24fb68016"
      },
      "execution_count": null,
      "outputs": [
        {
          "output_type": "stream",
          "name": "stdout",
          "text": [
            "La letra es: Index(['A', 'B', 'C', 'D', 'E'], dtype='object')\n",
            "Los numeros son: [6 7 8 9 0]\n"
          ]
        }
      ]
    },
    {
      "cell_type": "code",
      "execution_count": null,
      "metadata": {
        "id": "pUnHyGr5iXcc",
        "colab": {
          "base_uri": "https://localhost:8080/"
        },
        "outputId": "e49127c9-a1a6-4586-b5de-1364788317cb"
      },
      "outputs": [
        {
          "output_type": "execute_result",
          "data": {
            "text/plain": [
              "1"
            ]
          },
          "metadata": {},
          "execution_count": 135
        }
      ],
      "source": [
        "# We can look up values out of a Series by position...\n",
        "s.iloc[0]"
      ]
    },
    {
      "cell_type": "markdown",
      "source": [
        "**My own example 54**"
      ],
      "metadata": {
        "id": "LYmDAAQ0ZOqb"
      }
    },
    {
      "cell_type": "code",
      "source": [
        "owns.iloc[2]"
      ],
      "metadata": {
        "colab": {
          "base_uri": "https://localhost:8080/"
        },
        "id": "C2Vec_R9ZO6D",
        "outputId": "6fabaa86-f42e-4596-c07c-dd73b3392ce5"
      },
      "execution_count": null,
      "outputs": [
        {
          "output_type": "execute_result",
          "data": {
            "text/plain": [
              "8"
            ]
          },
          "metadata": {},
          "execution_count": 139
        }
      ]
    },
    {
      "cell_type": "code",
      "execution_count": null,
      "metadata": {
        "id": "IyM3qqygiXcc",
        "colab": {
          "base_uri": "https://localhost:8080/"
        },
        "outputId": "07cbefbc-803e-4ea5-dc28-635207529443"
      },
      "outputs": [
        {
          "output_type": "execute_result",
          "data": {
            "text/plain": [
              "1"
            ]
          },
          "metadata": {},
          "execution_count": 136
        }
      ],
      "source": [
        "# ... or by label.\n",
        "s.loc['a']"
      ]
    },
    {
      "cell_type": "markdown",
      "source": [
        "**My own example 55**"
      ],
      "metadata": {
        "id": "Ggb1yejIZWoj"
      }
    },
    {
      "cell_type": "code",
      "source": [
        "owns.loc['A']"
      ],
      "metadata": {
        "colab": {
          "base_uri": "https://localhost:8080/"
        },
        "id": "ecou97bhZW0j",
        "outputId": "73f0d44e-bf91-406b-86bf-8d01f2d50110"
      },
      "execution_count": null,
      "outputs": [
        {
          "output_type": "execute_result",
          "data": {
            "text/plain": [
              "6"
            ]
          },
          "metadata": {},
          "execution_count": 142
        }
      ]
    },
    {
      "cell_type": "code",
      "execution_count": null,
      "metadata": {
        "id": "JrCItQtiiXcc",
        "colab": {
          "base_uri": "https://localhost:8080/"
        },
        "outputId": "3875727e-ec94-4ccb-9c47-50202ea3ea7a"
      },
      "outputs": [
        {
          "output_type": "execute_result",
          "data": {
            "text/plain": [
              "a    1\n",
              "b    2\n",
              "dtype: int64"
            ]
          },
          "metadata": {},
          "execution_count": 140
        }
      ],
      "source": [
        "# Slicing works as expected...\n",
        "s.iloc[:2]"
      ]
    },
    {
      "cell_type": "markdown",
      "source": [
        "**My own example 56**"
      ],
      "metadata": {
        "id": "K8uPWjL3Zecz"
      }
    },
    {
      "cell_type": "code",
      "source": [
        "owns.iloc[:3]"
      ],
      "metadata": {
        "colab": {
          "base_uri": "https://localhost:8080/"
        },
        "id": "tHUyc4j8ZeqE",
        "outputId": "db593904-3fd0-4471-d0d9-2bd58d3eddac"
      },
      "execution_count": null,
      "outputs": [
        {
          "output_type": "execute_result",
          "data": {
            "text/plain": [
              "A    6\n",
              "B    7\n",
              "C    8\n",
              "dtype: int64"
            ]
          },
          "metadata": {},
          "execution_count": 143
        }
      ]
    },
    {
      "cell_type": "code",
      "execution_count": null,
      "metadata": {
        "id": "tzTbbk9YiXcc",
        "colab": {
          "base_uri": "https://localhost:8080/"
        },
        "outputId": "61ae6728-0c6c-40db-ad3e-bb7b52453415"
      },
      "outputs": [
        {
          "output_type": "execute_result",
          "data": {
            "text/plain": [
              "a    1\n",
              "b    2\n",
              "c    3\n",
              "dtype: int64"
            ]
          },
          "metadata": {},
          "execution_count": 144
        }
      ],
      "source": [
        "# ...but it works with labels too!\n",
        "s.loc[:'c']"
      ]
    },
    {
      "cell_type": "markdown",
      "source": [
        "**My own example 57**"
      ],
      "metadata": {
        "id": "wvuvmMb8ZmIL"
      }
    },
    {
      "cell_type": "code",
      "source": [
        "owns.loc[:'B']"
      ],
      "metadata": {
        "colab": {
          "base_uri": "https://localhost:8080/"
        },
        "id": "xodcx7EmZmUZ",
        "outputId": "8b28925f-4029-4b5a-d0ac-fa1612c48a04"
      },
      "execution_count": null,
      "outputs": [
        {
          "output_type": "execute_result",
          "data": {
            "text/plain": [
              "A    6\n",
              "B    7\n",
              "dtype: int64"
            ]
          },
          "metadata": {},
          "execution_count": 146
        }
      ]
    },
    {
      "cell_type": "code",
      "execution_count": null,
      "metadata": {
        "id": "qrVQ0b0ziXcd",
        "colab": {
          "base_uri": "https://localhost:8080/"
        },
        "outputId": "b8918a07-3df6-47f9-a2e6-315df272832a"
      },
      "outputs": [
        {
          "output_type": "execute_result",
          "data": {
            "text/plain": [
              "a    1\n",
              "e    5\n",
              "dtype: int64"
            ]
          },
          "metadata": {},
          "execution_count": 147
        }
      ],
      "source": [
        "# Fancy indexing works the same as in numpy.\n",
        "s.iloc[[0, -1]]"
      ]
    },
    {
      "cell_type": "markdown",
      "source": [
        "**My own example 58**"
      ],
      "metadata": {
        "id": "SJckJyHnZ9rs"
      }
    },
    {
      "cell_type": "code",
      "source": [
        "owns.iloc[[0, -2]]"
      ],
      "metadata": {
        "colab": {
          "base_uri": "https://localhost:8080/"
        },
        "id": "_qkhrT8qZ938",
        "outputId": "8115f2a8-4eee-47b9-d0c9-8b5cc8e4753f"
      },
      "execution_count": null,
      "outputs": [
        {
          "output_type": "execute_result",
          "data": {
            "text/plain": [
              "A    6\n",
              "D    9\n",
              "dtype: int64"
            ]
          },
          "metadata": {},
          "execution_count": 152
        }
      ]
    },
    {
      "cell_type": "code",
      "execution_count": null,
      "metadata": {
        "id": "THswhsDLiXcd",
        "colab": {
          "base_uri": "https://localhost:8080/"
        },
        "outputId": "b710a029-7c34-49de-eabe-59c0734f859f"
      },
      "outputs": [
        {
          "output_type": "execute_result",
          "data": {
            "text/plain": [
              "c    3\n",
              "d    4\n",
              "e    5\n",
              "dtype: int64"
            ]
          },
          "metadata": {},
          "execution_count": 148
        }
      ],
      "source": [
        "# As does boolean masking.\n",
        "s.loc[s > 2]"
      ]
    },
    {
      "cell_type": "code",
      "execution_count": null,
      "metadata": {
        "id": "nYGjpHaIiXcd",
        "colab": {
          "base_uri": "https://localhost:8080/"
        },
        "outputId": "9315566b-9840-452a-cd2c-bf12859b9982"
      },
      "outputs": [
        {
          "output_type": "execute_result",
          "data": {
            "text/plain": [
              "a    10.0\n",
              "c    20.0\n",
              "d    30.0\n",
              "z    40.0\n",
              "dtype: float64"
            ]
          },
          "metadata": {},
          "execution_count": 149
        }
      ],
      "source": [
        "# Element-wise operations are aligned by index.\n",
        "other_s = pd.Series({'a': 10.0, 'c': 20.0, 'd': 30.0, 'z': 40.0})\n",
        "other_s"
      ]
    },
    {
      "cell_type": "markdown",
      "source": [
        "**My own example 59**"
      ],
      "metadata": {
        "id": "tu21peZIaSwN"
      }
    },
    {
      "cell_type": "code",
      "source": [
        "other_owns = pd.Series({'F': 11.1, 'G': 22.2, 'H': 33.3, 'I': 44.4})\n",
        "other_owns"
      ],
      "metadata": {
        "colab": {
          "base_uri": "https://localhost:8080/"
        },
        "id": "fss-svu9aS9q",
        "outputId": "505f0ddd-36c5-4ae0-d335-c61b76f13d44"
      },
      "execution_count": null,
      "outputs": [
        {
          "output_type": "execute_result",
          "data": {
            "text/plain": [
              "F    11.1\n",
              "G    22.2\n",
              "H    33.3\n",
              "I    44.4\n",
              "dtype: float64"
            ]
          },
          "metadata": {},
          "execution_count": 154
        }
      ]
    },
    {
      "cell_type": "code",
      "execution_count": null,
      "metadata": {
        "id": "nkK07CuEiXcd",
        "colab": {
          "base_uri": "https://localhost:8080/"
        },
        "outputId": "a93b8b63-dfd7-4868-ed6e-141ef4b803d5"
      },
      "outputs": [
        {
          "output_type": "execute_result",
          "data": {
            "text/plain": [
              "a    11.0\n",
              "b     NaN\n",
              "c    23.0\n",
              "d    34.0\n",
              "e     NaN\n",
              "z     NaN\n",
              "dtype: float64"
            ]
          },
          "metadata": {},
          "execution_count": 153
        }
      ],
      "source": [
        "s + other_s"
      ]
    },
    {
      "cell_type": "markdown",
      "source": [
        "**My own example 60**"
      ],
      "metadata": {
        "id": "rcIZdPH-a0Wv"
      }
    },
    {
      "cell_type": "code",
      "source": [
        "owns + other_owns"
      ],
      "metadata": {
        "colab": {
          "base_uri": "https://localhost:8080/"
        },
        "id": "CTMwxis_a0jj",
        "outputId": "43ab7028-6c2b-4567-99da-3feb5f85aa32"
      },
      "execution_count": null,
      "outputs": [
        {
          "output_type": "execute_result",
          "data": {
            "text/plain": [
              "A   NaN\n",
              "B   NaN\n",
              "C   NaN\n",
              "D   NaN\n",
              "E   NaN\n",
              "F   NaN\n",
              "G   NaN\n",
              "H   NaN\n",
              "I   NaN\n",
              "dtype: float64"
            ]
          },
          "metadata": {},
          "execution_count": 155
        }
      ]
    },
    {
      "cell_type": "code",
      "execution_count": null,
      "metadata": {
        "id": "pePOoBl3iXcd",
        "colab": {
          "base_uri": "https://localhost:8080/"
        },
        "outputId": "2c565c1c-ee47-4012-f9be-1c435912c585"
      },
      "outputs": [
        {
          "output_type": "execute_result",
          "data": {
            "text/plain": [
              "a    11.0\n",
              "b     0.0\n",
              "c    23.0\n",
              "d    34.0\n",
              "e     0.0\n",
              "z     0.0\n",
              "dtype: float64"
            ]
          },
          "metadata": {},
          "execution_count": 156
        }
      ],
      "source": [
        "# We can fill in missing values with fillna().\n",
        "(s + other_s).fillna(0.0)"
      ]
    },
    {
      "cell_type": "code",
      "execution_count": null,
      "metadata": {
        "id": "8LYqk1oDiXcd"
      },
      "outputs": [],
      "source": [
        "# Most real datasets are read in from an external file format.\n",
        "# aapl = pd.read_csv('AAPL.csv', parse_dates=['Date'], index_col='Date')\n",
        "# aapl.head()"
      ]
    },
    {
      "cell_type": "code",
      "execution_count": null,
      "metadata": {
        "id": "JasJjximiXcd"
      },
      "outputs": [],
      "source": [
        "# Slicing generalizes to two dimensions as you'd expect:\n",
        "# aapl.iloc[:2, :2]"
      ]
    },
    {
      "cell_type": "code",
      "execution_count": null,
      "metadata": {
        "id": "aAnXEGHMiXce"
      },
      "outputs": [],
      "source": [
        "# aapl.loc[pd.Timestamp('2010-02-01'):pd.Timestamp('2010-02-04'), ['Close', 'Volume']]"
      ]
    },
    {
      "cell_type": "markdown",
      "metadata": {
        "id": "Up935r8GiXce"
      },
      "source": [
        "# Rolling Operations"
      ]
    },
    {
      "cell_type": "markdown",
      "metadata": {
        "id": "28dFZSZmiXce"
      },
      "source": [
        "<center><img src=\"https://raw.githubusercontent.com/ssanderson/pydata-toolbox/master/notebooks/images/rolling.gif\" alt=\"Drawing\" style=\"width: 75%;\"/></center>"
      ]
    },
    {
      "cell_type": "code",
      "execution_count": null,
      "metadata": {
        "id": "-YvkXxL0iXce"
      },
      "outputs": [],
      "source": [
        "aapl.rolling(5)[['Close', 'Adj Close']].mean().plot();"
      ]
    },
    {
      "cell_type": "code",
      "execution_count": null,
      "metadata": {
        "id": "HKynE6AMiXce"
      },
      "outputs": [],
      "source": [
        "# Drop `Volume`, since it's way bigger than everything else.\n",
        "aapl.drop('Volume', axis=1).resample('2W').max().plot();"
      ]
    },
    {
      "cell_type": "code",
      "execution_count": null,
      "metadata": {
        "id": "ayoPHapZiXce"
      },
      "outputs": [],
      "source": [
        "# 30-day rolling exponentially-weighted stddev of returns.\n",
        "aapl['Close'].pct_change().ewm(span=30).std().plot();"
      ]
    },
    {
      "cell_type": "markdown",
      "metadata": {
        "id": "npT_ZgpYiXce"
      },
      "source": [
        "# \"Real World\" Data"
      ]
    },
    {
      "cell_type": "code",
      "execution_count": null,
      "metadata": {
        "id": "XcYC7BGAiXcf",
        "colab": {
          "base_uri": "https://localhost:8080/",
          "height": 356
        },
        "outputId": "6c697508-0fff-4d01-89ae-3176fa6df54c"
      },
      "outputs": [
        {
          "output_type": "error",
          "ename": "ModuleNotFoundError",
          "evalue": "ignored",
          "traceback": [
            "\u001b[0;31m---------------------------------------------------------------------------\u001b[0m",
            "\u001b[0;31mModuleNotFoundError\u001b[0m                       Traceback (most recent call last)",
            "\u001b[0;32m<ipython-input-161-ca7191fa6ef8>\u001b[0m in \u001b[0;36m<module>\u001b[0;34m\u001b[0m\n\u001b[0;32m----> 1\u001b[0;31m \u001b[0;32mfrom\u001b[0m \u001b[0mdemos\u001b[0m\u001b[0;34m.\u001b[0m\u001b[0mavocados\u001b[0m \u001b[0;32mimport\u001b[0m \u001b[0mread_avocadata\u001b[0m\u001b[0;34m\u001b[0m\u001b[0;34m\u001b[0m\u001b[0m\n\u001b[0m\u001b[1;32m      2\u001b[0m \u001b[0;34m\u001b[0m\u001b[0m\n\u001b[1;32m      3\u001b[0m \u001b[0mavocados\u001b[0m \u001b[0;34m=\u001b[0m \u001b[0mread_avocadata\u001b[0m\u001b[0;34m(\u001b[0m\u001b[0;34m'2014'\u001b[0m\u001b[0;34m,\u001b[0m \u001b[0;34m'2016'\u001b[0m\u001b[0;34m)\u001b[0m\u001b[0;34m\u001b[0m\u001b[0;34m\u001b[0m\u001b[0m\n\u001b[1;32m      4\u001b[0m \u001b[0mavocados\u001b[0m\u001b[0;34m.\u001b[0m\u001b[0mhead\u001b[0m\u001b[0;34m(\u001b[0m\u001b[0;34m)\u001b[0m\u001b[0;34m\u001b[0m\u001b[0;34m\u001b[0m\u001b[0m\n",
            "\u001b[0;31mModuleNotFoundError\u001b[0m: No module named 'demos'",
            "",
            "\u001b[0;31m---------------------------------------------------------------------------\u001b[0;32m\nNOTE: If your import is failing due to a missing package, you can\nmanually install dependencies using either !pip or !apt.\n\nTo view examples of installing some common dependencies, click the\n\"Open Examples\" button below.\n\u001b[0;31m---------------------------------------------------------------------------\u001b[0m\n"
          ],
          "errorDetails": {
            "actions": [
              {
                "action": "open_url",
                "actionText": "Open Examples",
                "url": "/notebooks/snippets/importing_libraries.ipynb"
              }
            ]
          }
        }
      ],
      "source": [
        "from demos.avocados import read_avocadata\n",
        "\n",
        "avocados = read_avocadata('2014', '2016')\n",
        "avocados.head()"
      ]
    },
    {
      "cell_type": "code",
      "execution_count": null,
      "metadata": {
        "id": "tjk0EsEsiXcf"
      },
      "outputs": [],
      "source": [
        "# Unlike numpy arrays, pandas DataFrames can have a different dtype for each column.\n",
        "avocados.dtypes"
      ]
    },
    {
      "cell_type": "code",
      "execution_count": null,
      "metadata": {
        "id": "YcpqjQCdiXcf"
      },
      "outputs": [],
      "source": [
        "# What's the regional average price of a HASS avocado every day?\n",
        "hass = avocados[avocados.Variety == 'HASS']\n",
        "hass.groupby(['Date', 'Region'])['Weighted Avg Price'].mean().unstack().ffill().plot();"
      ]
    },
    {
      "cell_type": "code",
      "execution_count": null,
      "metadata": {
        "collapsed": true,
        "id": "k1Zdnr4jiXcf"
      },
      "outputs": [],
      "source": [
        "def _organic_spread(group):\n",
        "\n",
        "    if len(group.columns) != 2:\n",
        "        return pd.Series(index=group.index, data=0.0)\n",
        "    \n",
        "    is_organic = group.columns.get_level_values('Organic').values.astype(bool)\n",
        "    organics = group.loc[:, is_organic].squeeze()\n",
        "    non_organics = group.loc[:, ~is_organic].squeeze()\n",
        "    diff = organics - non_organics\n",
        "    return diff\n",
        "\n",
        "def organic_spread_by_region(df):\n",
        "    \"\"\"What's the difference between the price of an organic \n",
        "    and non-organic avocado within each region?\n",
        "    \"\"\"\n",
        "    return (\n",
        "        df\n",
        "        .set_index(['Date', 'Region', 'Organic'])\n",
        "         ['Weighted Avg Price']\n",
        "        .unstack(level=['Region', 'Organic'])\n",
        "        .ffill()\n",
        "        .groupby(level='Region', axis=1)\n",
        "        .apply(_organic_spread)\n",
        "    )"
      ]
    },
    {
      "cell_type": "code",
      "execution_count": null,
      "metadata": {
        "id": "iU-Th92BiXcf"
      },
      "outputs": [],
      "source": [
        "organic_spread_by_region(hass).plot();\n",
        "plt.gca().set_title(\"Daily Regional Organic Spread\");\n",
        "plt.legend(bbox_to_anchor=(1, 1));"
      ]
    },
    {
      "cell_type": "code",
      "execution_count": null,
      "metadata": {
        "id": "vjR02HpEiXcg"
      },
      "outputs": [],
      "source": [
        "spread_correlation = organic_spread_by_region(hass).corr()\n",
        "spread_correlation"
      ]
    },
    {
      "cell_type": "code",
      "execution_count": null,
      "metadata": {
        "id": "-fbKjqw6iXcg"
      },
      "outputs": [],
      "source": [
        "import seaborn as sns\n",
        "grid = sns.clustermap(spread_correlation, annot=True)\n",
        "fig = grid.fig\n",
        "axes = fig.axes\n",
        "ax = axes[2]\n",
        "ax.set_xticklabels(ax.get_xticklabels(), rotation=45);"
      ]
    },
    {
      "cell_type": "markdown",
      "metadata": {
        "id": "-6jsBAhQiXcg"
      },
      "source": [
        "# Pandas Review\n",
        "\n",
        "- Pandas extends numpy with more complex datastructures and algorithms.\n",
        "- If you understand numpy, you understand 90% of pandas.\n",
        "- `groupby`, `set_index`, and `unstack` are powerful tools for working with categorical data.\n",
        "- Avocado prices are surprisingly interesting :)"
      ]
    },
    {
      "cell_type": "markdown",
      "metadata": {
        "id": "_u_fG58UiXcg"
      },
      "source": [
        "# Thanks!"
      ]
    }
  ],
  "metadata": {
    "celltoolbar": "Slideshow",
    "kernelspec": {
      "display_name": "Python 3",
      "language": "python",
      "name": "python3"
    },
    "language_info": {
      "codemirror_mode": {
        "name": "ipython",
        "version": 3
      },
      "file_extension": ".py",
      "mimetype": "text/x-python",
      "name": "python",
      "nbconvert_exporter": "python",
      "pygments_lexer": "ipython3",
      "version": "3.5.2"
    },
    "livereveal": {
      "start_slideshow_at": "selected"
    },
    "name": "Main.ipynb",
    "colab": {
      "provenance": [],
      "collapsed_sections": [
        "gh1Uw4KtiXcK",
        "K81LXWsCiXcS",
        "9EsiKbSCiXcT",
        "zsIEVqkgiXcY",
        "JHmGF_mGiXcZ",
        "-6jsBAhQiXcg",
        "_u_fG58UiXcg"
      ],
      "include_colab_link": true
    }
  },
  "nbformat": 4,
  "nbformat_minor": 0
}