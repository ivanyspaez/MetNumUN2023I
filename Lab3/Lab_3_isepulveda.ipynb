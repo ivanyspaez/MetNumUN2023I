{
  "nbformat": 4,
  "nbformat_minor": 0,
  "metadata": {
    "colab": {
      "provenance": [],
      "include_colab_link": true
    },
    "kernelspec": {
      "name": "python3",
      "display_name": "Python 3"
    },
    "language_info": {
      "name": "python"
    }
  },
  "cells": [
    {
      "cell_type": "markdown",
      "metadata": {
        "id": "view-in-github",
        "colab_type": "text"
      },
      "source": [
        "<a href=\"https://colab.research.google.com/github/ivanyspaez/MetNumUN2023I/blob/main/Lab3/Lab_3_isepulveda.ipynb\" target=\"_parent\"><img src=\"https://colab.research.google.com/assets/colab-badge.svg\" alt=\"Open In Colab\"/></a>"
      ]
    },
    {
      "cell_type": "markdown",
      "source": [
        "Publicaciones sobre los certificados realizados en LinkedIn. "
      ],
      "metadata": {
        "id": "iDJeNHkWjlun"
      }
    },
    {
      "cell_type": "markdown",
      "source": [
        "https://www.linkedin.com/in/ivan-sepulveda-paez/details/certifications/"
      ],
      "metadata": {
        "id": "u6cmCetyTjC7"
      }
    },
    {
      "cell_type": "markdown",
      "source": [
        "Curso 1: Python 101 for Data Science."
      ],
      "metadata": {
        "id": "jfZ_oKOyjIm2"
      }
    },
    {
      "cell_type": "markdown",
      "source": [
        "https://courses.cognitiveclass.ai/certificates/4d2146ecff7941f6b9831cccc1fbbbe7 "
      ],
      "metadata": {
        "id": "u2zs6bmCjWh6"
      }
    },
    {
      "cell_type": "markdown",
      "source": [
        "Curso 2: Data Analysis with Python."
      ],
      "metadata": {
        "id": "Ct1TXK4qffBG"
      }
    },
    {
      "cell_type": "markdown",
      "source": [
        "https://courses.cognitiveclass.ai/certificates/9089907100d945b7912616d34b4222f6"
      ],
      "metadata": {
        "id": "kaGsxFRafrp9"
      }
    },
    {
      "cell_type": "markdown",
      "source": [
        "Curso 3: Data Visualization with Python"
      ],
      "metadata": {
        "id": "K8iJ5Eagfxn8"
      }
    },
    {
      "cell_type": "markdown",
      "source": [
        "https://www.credly.com/badges/17fc04f6-9ad2-4d01-9454-c047134f9fba"
      ],
      "metadata": {
        "id": "URHBysLLgi99"
      }
    }
  ]
}